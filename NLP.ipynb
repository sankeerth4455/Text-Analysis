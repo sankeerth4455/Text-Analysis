{
  "nbformat": 4,
  "nbformat_minor": 0,
  "metadata": {
    "kernelspec": {
      "display_name": "Python 3 (ipykernel)",
      "language": "python",
      "name": "python3"
    },
    "language_info": {
      "codemirror_mode": {
        "name": "ipython",
        "version": 3
      },
      "file_extension": ".py",
      "mimetype": "text/x-python",
      "name": "python",
      "nbconvert_exporter": "python",
      "pygments_lexer": "ipython3",
      "version": "3.7.11"
    },
    "colab": {
      "provenance": []
    }
  },
  "cells": [
    {
      "cell_type": "markdown",
      "metadata": {
        "id": "eCkMoN9vNXRO"
      },
      "source": [
        "# Sentiment Analysis using NLP Part 2 with the new dataset"
      ]
    },
    {
      "cell_type": "markdown",
      "metadata": {
        "id": "0z7BNHSnI1nN"
      },
      "source": [
        "Group 1\n",
        "\n",
        "Keshav Yadav- 0770087\n",
        "\n",
        "Ashish Kapadia - 0769157\n",
        "\n",
        "Sri Sankeerth Koduru - 0768993\n",
        "\n",
        "Dilpreet Singh - 0771612"
      ]
    },
    {
      "cell_type": "code",
      "metadata": {
        "id": "-kAoNaDXNXRU"
      },
      "source": [
        "import pandas as pd\n",
        "import numpy as np\n",
        "import re\n",
        "import nltk\n",
        "import matplotlib.pyplot as plt\n",
        "import seaborn as sns\n",
        "%matplotlib inline\n",
        "from sklearn.naive_bayes import GaussianNB\n",
        "from sklearn.neighbors import KNeighborsClassifier\n",
        "from sklearn.svm import SVC\n",
        "from sklearn.tree import DecisionTreeClassifier\n",
        "from sklearn.ensemble import RandomForestClassifier\n",
        "from sklearn.model_selection import train_test_split\n",
        "from sklearn.metrics import confusion_matrix,accuracy_score,precision_score,recall_score,f1_score"
      ],
      "execution_count": null,
      "outputs": []
    },
    {
      "cell_type": "code",
      "metadata": {
        "id": "lPpPHoRENXRZ"
      },
      "source": [
        "# Read the file\n",
        "data = pd.read_csv('Tweets.csv')"
      ],
      "execution_count": null,
      "outputs": []
    },
    {
      "cell_type": "code",
      "metadata": {
        "colab": {
          "base_uri": "https://localhost:8080/"
        },
        "id": "cghPdan5NXRb",
        "outputId": "c0b5e016-6e33-4bd1-9157-04674c4b17a8"
      },
      "source": [
        "# Find the shape\n",
        "data.shape"
      ],
      "execution_count": null,
      "outputs": [
        {
          "output_type": "execute_result",
          "data": {
            "text/plain": [
              "(14640, 15)"
            ]
          },
          "metadata": {},
          "execution_count": 5
        }
      ]
    },
    {
      "cell_type": "code",
      "metadata": {
        "colab": {
          "base_uri": "https://localhost:8080/",
          "height": 452
        },
        "id": "ReEQEI6MNXRf",
        "outputId": "7730b753-8537-475e-9e22-11b424b7e808"
      },
      "source": [
        "# Have a quick look at the dataset\n",
        "data.head()"
      ],
      "execution_count": null,
      "outputs": [
        {
          "output_type": "execute_result",
          "data": {
            "text/html": [
              "<div>\n",
              "<style scoped>\n",
              "    .dataframe tbody tr th:only-of-type {\n",
              "        vertical-align: middle;\n",
              "    }\n",
              "\n",
              "    .dataframe tbody tr th {\n",
              "        vertical-align: top;\n",
              "    }\n",
              "\n",
              "    .dataframe thead th {\n",
              "        text-align: right;\n",
              "    }\n",
              "</style>\n",
              "<table border=\"1\" class=\"dataframe\">\n",
              "  <thead>\n",
              "    <tr style=\"text-align: right;\">\n",
              "      <th></th>\n",
              "      <th>tweet_id</th>\n",
              "      <th>airline_sentiment</th>\n",
              "      <th>airline_sentiment_confidence</th>\n",
              "      <th>negativereason</th>\n",
              "      <th>negativereason_confidence</th>\n",
              "      <th>airline</th>\n",
              "      <th>airline_sentiment_gold</th>\n",
              "      <th>name</th>\n",
              "      <th>negativereason_gold</th>\n",
              "      <th>retweet_count</th>\n",
              "      <th>text</th>\n",
              "      <th>tweet_coord</th>\n",
              "      <th>tweet_created</th>\n",
              "      <th>tweet_location</th>\n",
              "      <th>user_timezone</th>\n",
              "    </tr>\n",
              "  </thead>\n",
              "  <tbody>\n",
              "    <tr>\n",
              "      <th>0</th>\n",
              "      <td>570306133677760513</td>\n",
              "      <td>neutral</td>\n",
              "      <td>1.0000</td>\n",
              "      <td>NaN</td>\n",
              "      <td>NaN</td>\n",
              "      <td>Virgin America</td>\n",
              "      <td>NaN</td>\n",
              "      <td>cairdin</td>\n",
              "      <td>NaN</td>\n",
              "      <td>0</td>\n",
              "      <td>@VirginAmerica What @dhepburn said.</td>\n",
              "      <td>NaN</td>\n",
              "      <td>2015-02-24 11:35:52 -0800</td>\n",
              "      <td>NaN</td>\n",
              "      <td>Eastern Time (US &amp; Canada)</td>\n",
              "    </tr>\n",
              "    <tr>\n",
              "      <th>1</th>\n",
              "      <td>570301130888122368</td>\n",
              "      <td>positive</td>\n",
              "      <td>0.3486</td>\n",
              "      <td>NaN</td>\n",
              "      <td>0.0000</td>\n",
              "      <td>Virgin America</td>\n",
              "      <td>NaN</td>\n",
              "      <td>jnardino</td>\n",
              "      <td>NaN</td>\n",
              "      <td>0</td>\n",
              "      <td>@VirginAmerica plus you've added commercials t...</td>\n",
              "      <td>NaN</td>\n",
              "      <td>2015-02-24 11:15:59 -0800</td>\n",
              "      <td>NaN</td>\n",
              "      <td>Pacific Time (US &amp; Canada)</td>\n",
              "    </tr>\n",
              "    <tr>\n",
              "      <th>2</th>\n",
              "      <td>570301083672813571</td>\n",
              "      <td>neutral</td>\n",
              "      <td>0.6837</td>\n",
              "      <td>NaN</td>\n",
              "      <td>NaN</td>\n",
              "      <td>Virgin America</td>\n",
              "      <td>NaN</td>\n",
              "      <td>yvonnalynn</td>\n",
              "      <td>NaN</td>\n",
              "      <td>0</td>\n",
              "      <td>@VirginAmerica I didn't today... Must mean I n...</td>\n",
              "      <td>NaN</td>\n",
              "      <td>2015-02-24 11:15:48 -0800</td>\n",
              "      <td>Lets Play</td>\n",
              "      <td>Central Time (US &amp; Canada)</td>\n",
              "    </tr>\n",
              "    <tr>\n",
              "      <th>3</th>\n",
              "      <td>570301031407624196</td>\n",
              "      <td>negative</td>\n",
              "      <td>1.0000</td>\n",
              "      <td>Bad Flight</td>\n",
              "      <td>0.7033</td>\n",
              "      <td>Virgin America</td>\n",
              "      <td>NaN</td>\n",
              "      <td>jnardino</td>\n",
              "      <td>NaN</td>\n",
              "      <td>0</td>\n",
              "      <td>@VirginAmerica it's really aggressive to blast...</td>\n",
              "      <td>NaN</td>\n",
              "      <td>2015-02-24 11:15:36 -0800</td>\n",
              "      <td>NaN</td>\n",
              "      <td>Pacific Time (US &amp; Canada)</td>\n",
              "    </tr>\n",
              "    <tr>\n",
              "      <th>4</th>\n",
              "      <td>570300817074462722</td>\n",
              "      <td>negative</td>\n",
              "      <td>1.0000</td>\n",
              "      <td>Can't Tell</td>\n",
              "      <td>1.0000</td>\n",
              "      <td>Virgin America</td>\n",
              "      <td>NaN</td>\n",
              "      <td>jnardino</td>\n",
              "      <td>NaN</td>\n",
              "      <td>0</td>\n",
              "      <td>@VirginAmerica and it's a really big bad thing...</td>\n",
              "      <td>NaN</td>\n",
              "      <td>2015-02-24 11:14:45 -0800</td>\n",
              "      <td>NaN</td>\n",
              "      <td>Pacific Time (US &amp; Canada)</td>\n",
              "    </tr>\n",
              "  </tbody>\n",
              "</table>\n",
              "</div>"
            ],
            "text/plain": [
              "             tweet_id  ...               user_timezone\n",
              "0  570306133677760513  ...  Eastern Time (US & Canada)\n",
              "1  570301130888122368  ...  Pacific Time (US & Canada)\n",
              "2  570301083672813571  ...  Central Time (US & Canada)\n",
              "3  570301031407624196  ...  Pacific Time (US & Canada)\n",
              "4  570300817074462722  ...  Pacific Time (US & Canada)\n",
              "\n",
              "[5 rows x 15 columns]"
            ]
          },
          "metadata": {},
          "execution_count": 6
        }
      ]
    },
    {
      "cell_type": "markdown",
      "metadata": {
        "id": "UEEbaJ7oNXRh"
      },
      "source": [
        "## Perform Exploratory Analysis"
      ]
    },
    {
      "cell_type": "code",
      "metadata": {
        "colab": {
          "base_uri": "https://localhost:8080/",
          "height": 253
        },
        "id": "Q7qkyCGlNXRi",
        "outputId": "c681d7b9-dac3-4cf1-c6b9-53fb40d1eddc"
      },
      "source": [
        "# Create a pie chart by airline %\n",
        "size = data['airline'].value_counts(normalize=True)*100\n",
        "fig1, ax1 = plt.subplots()\n",
        "ax1.pie(size, labels=size.index, autopct='%1.1f%%',shadow=True, startangle=90)\n",
        "ax1.axis('equal')  # Equal aspect ratio ensures that pie is drawn as a circle.\n",
        "\n",
        "plt.show()"
      ],
      "execution_count": null,
      "outputs": [
        {
          "output_type": "display_data",
          "data": {
            "image/png": "[encoded data removed]",
            "text/plain": [
              "<Figure size 432x288 with 1 Axes>"
            ]
          },
          "metadata": {}
        }
      ]
    },
    {
      "cell_type": "code",
      "metadata": {
        "colab": {
          "base_uri": "https://localhost:8080/",
          "height": 248
        },
        "id": "BNHl1pF_NXRn",
        "outputId": "98d059f4-9665-4741-bfd6-236a06c8c7d3"
      },
      "source": [
        "# Create a pie chart by airline sentiment\n",
        "size1 = data['airline_sentiment'].value_counts(normalize=True)*100\n",
        "fig2, ax2 = plt.subplots()\n",
        "ax2.pie(size1, labels=size1.index, autopct='%1.1f%%',shadow=True, startangle=90)\n",
        "ax2.axis('equal')  # Equal aspect ratio ensures that pie is drawn as a circle.\n",
        "\n",
        "plt.show()"
      ],
      "execution_count": null,
      "outputs": [
        {
          "output_type": "display_data",
          "data": {
            "image/png": "[encoded data removed]",
            "text/plain": [
              "<Figure size 432x288 with 1 Axes>"
            ]
          },
          "metadata": {}
        }
      ]
    },
    {
      "cell_type": "code",
      "metadata": {
        "colab": {
          "base_uri": "https://localhost:8080/",
          "height": 269
        },
        "id": "CgKG3x-JY_gP",
        "outputId": "e10ddac0-f2bd-4fc7-f1db-c2d375266dd6"
      },
      "source": [
        "# Create a bar chart by airline and airline sentiment\n",
        "category_order = ['negative','neutral','positive']\n",
        "data1 = pd.pivot_table(data,index = 'airline',columns = 'airline_sentiment',values = 'tweet_id',aggfunc = 'count')\n",
        "data1 = data1[category_order]\n",
        "data1"
      ],
      "execution_count": null,
      "outputs": [
        {
          "output_type": "execute_result",
          "data": {
            "text/html": [
              "<div>\n",
              "<style scoped>\n",
              "    .dataframe tbody tr th:only-of-type {\n",
              "        vertical-align: middle;\n",
              "    }\n",
              "\n",
              "    .dataframe tbody tr th {\n",
              "        vertical-align: top;\n",
              "    }\n",
              "\n",
              "    .dataframe thead th {\n",
              "        text-align: right;\n",
              "    }\n",
              "</style>\n",
              "<table border=\"1\" class=\"dataframe\">\n",
              "  <thead>\n",
              "    <tr style=\"text-align: right;\">\n",
              "      <th>airline_sentiment</th>\n",
              "      <th>negative</th>\n",
              "      <th>neutral</th>\n",
              "      <th>positive</th>\n",
              "    </tr>\n",
              "    <tr>\n",
              "      <th>airline</th>\n",
              "      <th></th>\n",
              "      <th></th>\n",
              "      <th></th>\n",
              "    </tr>\n",
              "  </thead>\n",
              "  <tbody>\n",
              "    <tr>\n",
              "      <th>American</th>\n",
              "      <td>1960</td>\n",
              "      <td>463</td>\n",
              "      <td>336</td>\n",
              "    </tr>\n",
              "    <tr>\n",
              "      <th>Delta</th>\n",
              "      <td>955</td>\n",
              "      <td>723</td>\n",
              "      <td>544</td>\n",
              "    </tr>\n",
              "    <tr>\n",
              "      <th>Southwest</th>\n",
              "      <td>1186</td>\n",
              "      <td>664</td>\n",
              "      <td>570</td>\n",
              "    </tr>\n",
              "    <tr>\n",
              "      <th>US Airways</th>\n",
              "      <td>2263</td>\n",
              "      <td>381</td>\n",
              "      <td>269</td>\n",
              "    </tr>\n",
              "    <tr>\n",
              "      <th>United</th>\n",
              "      <td>2633</td>\n",
              "      <td>697</td>\n",
              "      <td>492</td>\n",
              "    </tr>\n",
              "    <tr>\n",
              "      <th>Virgin America</th>\n",
              "      <td>181</td>\n",
              "      <td>171</td>\n",
              "      <td>152</td>\n",
              "    </tr>\n",
              "  </tbody>\n",
              "</table>\n",
              "</div>"
            ],
            "text/plain": [
              "airline_sentiment  negative  neutral  positive\n",
              "airline                                       \n",
              "American               1960      463       336\n",
              "Delta                   955      723       544\n",
              "Southwest              1186      664       570\n",
              "US Airways             2263      381       269\n",
              "United                 2633      697       492\n",
              "Virgin America          181      171       152"
            ]
          },
          "metadata": {},
          "execution_count": 9
        }
      ]
    },
    {
      "cell_type": "code",
      "metadata": {
        "colab": {
          "base_uri": "https://localhost:8080/",
          "height": 621
        },
        "id": "Phx9uVFeNXRr",
        "outputId": "39efa08a-1226-4b59-d163-51a8908ec319"
      },
      "source": [
        "# Creating the plot\n",
        "plt1 = data1.plot.bar(rot=0, figsize=(15,10))\n",
        "plt.title('Airline Sentiment Count Bar Chart by Airlines')\n",
        "plt.xlabel('Airlines')\n",
        "plt.ylabel('Count')\n",
        "plt.show()"
      ],
      "execution_count": null,
      "outputs": [
        {
          "output_type": "display_data",
          "data": {
            "image/png": "[encoded data removed]",
            "text/plain": [
              "<Figure size 1080x720 with 1 Axes>"
            ]
          },
          "metadata": {
            "needs_background": "light"
          }
        }
      ]
    },
    {
      "cell_type": "code",
      "metadata": {
        "colab": {
          "base_uri": "https://localhost:8080/",
          "height": 175
        },
        "id": "AYehX9myNXRt",
        "outputId": "2d6e38ba-e50f-4b36-f9b5-b009ddc983ca"
      },
      "source": [
        "# Pivot Table for airline sentiment and airline sentiment confidence\n",
        "data2 = pd.pivot_table(data,index = 'airline_sentiment',values = 'airline_sentiment_confidence',aggfunc = 'mean')\n",
        "data2"
      ],
      "execution_count": null,
      "outputs": [
        {
          "output_type": "execute_result",
          "data": {
            "text/html": [
              "<div>\n",
              "<style scoped>\n",
              "    .dataframe tbody tr th:only-of-type {\n",
              "        vertical-align: middle;\n",
              "    }\n",
              "\n",
              "    .dataframe tbody tr th {\n",
              "        vertical-align: top;\n",
              "    }\n",
              "\n",
              "    .dataframe thead th {\n",
              "        text-align: right;\n",
              "    }\n",
              "</style>\n",
              "<table border=\"1\" class=\"dataframe\">\n",
              "  <thead>\n",
              "    <tr style=\"text-align: right;\">\n",
              "      <th></th>\n",
              "      <th>airline_sentiment_confidence</th>\n",
              "    </tr>\n",
              "    <tr>\n",
              "      <th>airline_sentiment</th>\n",
              "      <th></th>\n",
              "    </tr>\n",
              "  </thead>\n",
              "  <tbody>\n",
              "    <tr>\n",
              "      <th>negative</th>\n",
              "      <td>0.933365</td>\n",
              "    </tr>\n",
              "    <tr>\n",
              "      <th>neutral</th>\n",
              "      <td>0.823303</td>\n",
              "    </tr>\n",
              "    <tr>\n",
              "      <th>positive</th>\n",
              "      <td>0.872039</td>\n",
              "    </tr>\n",
              "  </tbody>\n",
              "</table>\n",
              "</div>"
            ],
            "text/plain": [
              "                   airline_sentiment_confidence\n",
              "airline_sentiment                              \n",
              "negative                               0.933365\n",
              "neutral                                0.823303\n",
              "positive                               0.872039"
            ]
          },
          "metadata": {},
          "execution_count": 11
        }
      ]
    },
    {
      "cell_type": "code",
      "metadata": {
        "colab": {
          "base_uri": "https://localhost:8080/",
          "height": 622
        },
        "id": "cbelm6rOZwIW",
        "outputId": "88e5335e-77cd-4344-8408-ac6f4d2e9af6"
      },
      "source": [
        "# Create a bar plot for airline sentiment and airline sentiment confidence\n",
        "plt2 = data2.plot.bar(rot=0, figsize=(15,10))\n",
        "plt.title('Airline sentiment and Airline sentiment confidence')\n",
        "plt.xlabel('airline_sentiment')\n",
        "plt.ylabel('airline_sentiment_confidence')\n",
        "plt.show()"
      ],
      "execution_count": null,
      "outputs": [
        {
          "output_type": "display_data",
          "data": {
            "image/png": "[encoded data removed]",
            "text/plain": [
              "<Figure size 1080x720 with 1 Axes>"
            ]
          },
          "metadata": {
            "needs_background": "light"
          }
        }
      ]
    },
    {
      "cell_type": "code",
      "metadata": {
        "id": "bBiP-BuHNXRv"
      },
      "source": [
        "# Create a new dataframe that will only have 2 relevant columns\n",
        "# Identify the 2 columns\n",
        "# For airline_sentiment I only want to see positive and negative sentiments\n",
        "# Remove the neutral sentiments from the dataframe\n",
        "\n",
        "data_clean = data[['text','airline_sentiment']]\n",
        "data_clean = data_clean.set_index(\"airline_sentiment\")\n",
        "data_clean = data_clean.drop(\"neutral\")\n",
        "data_clean.reset_index(inplace=True)\n",
        "data_clean = data_clean[['text','airline_sentiment']]"
      ],
      "execution_count": null,
      "outputs": []
    },
    {
      "cell_type": "code",
      "metadata": {
        "colab": {
          "base_uri": "https://localhost:8080/",
          "height": 423
        },
        "id": "gy4jrJP3NXRx",
        "outputId": "bac9bc42-758a-402c-b748-fb4a261128e1"
      },
      "source": [
        "#Your final dataframe should look like this\n",
        "data_clean"
      ],
      "execution_count": null,
      "outputs": [
        {
          "output_type": "execute_result",
          "data": {
            "text/html": [
              "<div>\n",
              "<style scoped>\n",
              "    .dataframe tbody tr th:only-of-type {\n",
              "        vertical-align: middle;\n",
              "    }\n",
              "\n",
              "    .dataframe tbody tr th {\n",
              "        vertical-align: top;\n",
              "    }\n",
              "\n",
              "    .dataframe thead th {\n",
              "        text-align: right;\n",
              "    }\n",
              "</style>\n",
              "<table border=\"1\" class=\"dataframe\">\n",
              "  <thead>\n",
              "    <tr style=\"text-align: right;\">\n",
              "      <th></th>\n",
              "      <th>text</th>\n",
              "      <th>airline_sentiment</th>\n",
              "    </tr>\n",
              "  </thead>\n",
              "  <tbody>\n",
              "    <tr>\n",
              "      <th>0</th>\n",
              "      <td>@VirginAmerica plus you've added commercials t...</td>\n",
              "      <td>positive</td>\n",
              "    </tr>\n",
              "    <tr>\n",
              "      <th>1</th>\n",
              "      <td>@VirginAmerica it's really aggressive to blast...</td>\n",
              "      <td>negative</td>\n",
              "    </tr>\n",
              "    <tr>\n",
              "      <th>2</th>\n",
              "      <td>@VirginAmerica and it's a really big bad thing...</td>\n",
              "      <td>negative</td>\n",
              "    </tr>\n",
              "    <tr>\n",
              "      <th>3</th>\n",
              "      <td>@VirginAmerica seriously would pay $30 a fligh...</td>\n",
              "      <td>negative</td>\n",
              "    </tr>\n",
              "    <tr>\n",
              "      <th>4</th>\n",
              "      <td>@VirginAmerica yes, nearly every time I fly VX...</td>\n",
              "      <td>positive</td>\n",
              "    </tr>\n",
              "    <tr>\n",
              "      <th>...</th>\n",
              "      <td>...</td>\n",
              "      <td>...</td>\n",
              "    </tr>\n",
              "    <tr>\n",
              "      <th>11536</th>\n",
              "      <td>@AmericanAir my flight was Cancelled Flightled...</td>\n",
              "      <td>negative</td>\n",
              "    </tr>\n",
              "    <tr>\n",
              "      <th>11537</th>\n",
              "      <td>@AmericanAir right on cue with the delays👌</td>\n",
              "      <td>negative</td>\n",
              "    </tr>\n",
              "    <tr>\n",
              "      <th>11538</th>\n",
              "      <td>@AmericanAir thank you we got on a different f...</td>\n",
              "      <td>positive</td>\n",
              "    </tr>\n",
              "    <tr>\n",
              "      <th>11539</th>\n",
              "      <td>@AmericanAir leaving over 20 minutes Late Flig...</td>\n",
              "      <td>negative</td>\n",
              "    </tr>\n",
              "    <tr>\n",
              "      <th>11540</th>\n",
              "      <td>@AmericanAir you have my money, you change my ...</td>\n",
              "      <td>negative</td>\n",
              "    </tr>\n",
              "  </tbody>\n",
              "</table>\n",
              "<p>11541 rows × 2 columns</p>\n",
              "</div>"
            ],
            "text/plain": [
              "                                                    text airline_sentiment\n",
              "0      @VirginAmerica plus you've added commercials t...          positive\n",
              "1      @VirginAmerica it's really aggressive to blast...          negative\n",
              "2      @VirginAmerica and it's a really big bad thing...          negative\n",
              "3      @VirginAmerica seriously would pay $30 a fligh...          negative\n",
              "4      @VirginAmerica yes, nearly every time I fly VX...          positive\n",
              "...                                                  ...               ...\n",
              "11536  @AmericanAir my flight was Cancelled Flightled...          negative\n",
              "11537         @AmericanAir right on cue with the delays👌          negative\n",
              "11538  @AmericanAir thank you we got on a different f...          positive\n",
              "11539  @AmericanAir leaving over 20 minutes Late Flig...          negative\n",
              "11540  @AmericanAir you have my money, you change my ...          negative\n",
              "\n",
              "[11541 rows x 2 columns]"
            ]
          },
          "metadata": {},
          "execution_count": 14
        }
      ]
    },
    {
      "cell_type": "code",
      "metadata": {
        "colab": {
          "base_uri": "https://localhost:8080/"
        },
        "id": "FWlbPPdyNXRz",
        "outputId": "dfeb7d10-e507-48c2-a3af-ebd979505dac"
      },
      "source": [
        "nltk.download('stopwords')"
      ],
      "execution_count": null,
      "outputs": [
        {
          "output_type": "stream",
          "name": "stdout",
          "text": [
            "[nltk_data] Downloading package stopwords to /root/nltk_data...\n",
            "[nltk_data]   Unzipping corpora/stopwords.zip.\n"
          ]
        },
        {
          "output_type": "execute_result",
          "data": {
            "text/plain": [
              "True"
            ]
          },
          "metadata": {},
          "execution_count": 15
        }
      ]
    },
    {
      "cell_type": "markdown",
      "metadata": {
        "id": "C_M-7Dg1f_qf"
      },
      "source": [
        "### Use this to create the corpus. Use the same steps from the last lab"
      ]
    },
    {
      "cell_type": "code",
      "metadata": {
        "id": "bRMRiJkUgDvB"
      },
      "source": [
        "from nltk.stem.porter import PorterStemmer\n",
        "from nltk.corpus import stopwords\n",
        "\n",
        "corpus = [] # Build a new list for all the words from all the texts\n",
        "# corpus is a collection of text and a common term used in NLP\n",
        "for i in range (0, 11541):\n",
        "    text = re.sub('[^a-zA-Z]', ' ', data_clean['text'][i] )\n",
        "    text = text.lower()\n",
        "    text = text.split()\n",
        "    ps =PorterStemmer()\n",
        "    text = [ps.stem(word) for word in text if not  word in set(stopwords.words('english'))]\n",
        "    text = ' '.join(text)\n",
        "    corpus.append(text)"
      ],
      "execution_count": null,
      "outputs": []
    },
    {
      "cell_type": "code",
      "metadata": {
        "colab": {
          "base_uri": "https://localhost:8080/"
        },
        "id": "aY2qzbXLg-MS",
        "outputId": "ec0a6712-5f94-4421-ace6-e159bbd625a8"
      },
      "source": [
        "# Print Corpus\n",
        "corpus"
      ],
      "execution_count": null,
      "outputs": [
        {
          "output_type": "execute_result",
          "data": {
            "text/plain": [
              "['virginamerica plu ad commerci experi tacki',\n",
              " 'virginamerica realli aggress blast obnoxi entertain guest face amp littl recours',\n",
              " 'virginamerica realli big bad thing',\n",
              " 'virginamerica serious would pay flight seat play realli bad thing fli va',\n",
              " 'virginamerica ye nearli everi time fli vx ear worm go away',\n",
              " 'virginamerica well',\n",
              " 'virginamerica amaz arriv hour earli good',\n",
              " 'virginamerica lt pretti graphic much better minim iconographi',\n",
              " 'virginamerica great deal alreadi think nd trip australia amp even gone st trip yet p',\n",
              " 'virginamerica virginmedia fli fabul seduct sky u take stress away travel http co ahlxhhkiyn',\n",
              " 'virginamerica thank',\n",
              " 'virginamerica sfo pdx schedul still mia',\n",
              " 'virginamerica excit first cross countri flight lax mco heard noth great thing virgin america daystogo',\n",
              " 'virginamerica flew nyc sfo last week fulli sit seat due two larg gentleman either side help',\n",
              " 'fli virginamerica',\n",
              " 'virginamerica know would amazingli awesom bo fll pleas want fli',\n",
              " 'virginamerica first fare may three time carrier seat avail select',\n",
              " 'virginamerica love graphic http co ut grrwaaa',\n",
              " 'virginamerica love hipster innov feel good brand',\n",
              " 'virginamerica guy mess seat reserv seat friend guy gave seat away want free internet',\n",
              " 'virginamerica statu match program appli three week call email respons',\n",
              " 'virginamerica happen ur vegan food option least say ur site know abl eat anyth next hr fail',\n",
              " 'virginamerica amaz get cold air vent vx noair worstflightev roast sfotobo',\n",
              " 'virginamerica hi bked cool birthday trip add elev caus enter middl name flight book problem',\n",
              " 'virginamerica help left expens headphon flight iad lax today seat one answer l amp f number lax',\n",
              " 'virginamerica await return phone call would prefer use onlin self servic option',\n",
              " 'virginamerica great news america could start flight hawaii end year http co r p zy fe via pacificbiznew',\n",
              " 'virginamerica moodlight way fli best experi ever cool calm moodlitmonday',\n",
              " 'virginamerica freddieaward done done best airlin around hand',\n",
              " 'virginamerica chat support work site http co vhp gtdwpk',\n",
              " 'virginamerica view downtown lo angel hollywood sign beyond rain mountain http co dw nf ibtr',\n",
              " 'virginamerica hey first time flyer next week excit hard time get flight ad elev account help',\n",
              " 'virginamerica elevategold good reason rock',\n",
              " 'virginamerica wow blew mind',\n",
              " 'virginamerica ladygaga carrieunderwood juli andrew way though ladygaga impress carrieunderwood',\n",
              " 'virginamerica hi excit lga gt dal deal tri book sinc last week amp page never load thx',\n",
              " 'virginamerica know need spotifi stat guiltypleasur',\n",
              " 'virginamerica ladygaga carrieunderwood ladi gaga amaz',\n",
              " 'virginamerica call week ago ad flight elev still shown help',\n",
              " 'virginamerica ladygaga carrieunderwood love three realli beat classic',\n",
              " 'virginamerica heyyyi guyyyi tri get hour someon call pleas',\n",
              " 'virginamerica hi virgin hold minut earlier flight la nyc tonight earlier pm',\n",
              " 'virginamerica congrat win travelzoo award best deal airlin us http co kj iljaebv',\n",
              " 'virginamerica everyth fine lost bag',\n",
              " 'virginamerica airlin awesom lax loft need step game dirti tabl floor http co hy vrfhjht',\n",
              " 'virginamerica worri great ride new plane great crew airlin like',\n",
              " 'virginamerica awesom flew yall sat morn way correct bill',\n",
              " 'virginamerica go custom servic anyway speak human asap thank',\n",
              " 'virginamerica supp biz travel like southwestair custom servic like jetblu neverflyvirginforbusi',\n",
              " 'virginamerica appli member inflight crew team im interest flightattend dreampath g',\n",
              " 'virginamerica best whenev begrudgingli use airlin delay late flight',\n",
              " 'virginamerica interest fli cancel flight next four flight plan neverflyvirginforbusi',\n",
              " 'virginamerica disappoint experi share everi busi travel meet neverflyvirgin',\n",
              " 'virginamerica troubl ad flight wife book elev account help http co px hqok r',\n",
              " 'virginamerica site back',\n",
              " 'virginamerica like tv interest video disappoint cancel flightl flight flight went jfk saturday',\n",
              " 'virginamerica land lax hour late flight bag check busi travel friendli nomorevirgin',\n",
              " 'virginamerica websit btw new websit great user experi time anoth redesign',\n",
              " 'virginamerica check add bag websit work tri desktop mobil http co avyqdmpi',\n",
              " 'virginamerica let scan passeng leav plane told someon remov bag st class bin uncomfort',\n",
              " 'virginamerica phone number find call flight reserv',\n",
              " 'virginamerica anyon anyth today websit useless one answer phone',\n",
              " 'virginamerica must travel miss flight late flight check bag miss morn appoint lost busi sfo lax',\n",
              " 'virginamerica direct flight fll gt sfo unexpect layov vega fuel yet peep next bought vega flight sneaki',\n",
              " 'virginamerica late flight bag check lost busi miss flight apt three peopl flight exp',\n",
              " 'virginamerica amaz custom servic raeann sf best customerservic virginamerica fli',\n",
              " 'virginamerica call servic line hung awesom sarcasm',\n",
              " 'virginamerica site trip tri check get plain text version reluct enter card info',\n",
              " 'virginamerica getaway deal may one way lot cool citi http co tzzjhuibch cheapflight farecompar',\n",
              " 'virginamerica getaway deal may one way lot cool citi http co b xi yg cheapflight farecompar',\n",
              " 'virginamerica great week',\n",
              " 'virginamerica come back phl alreadi need take us horribl cold pleasecomeback http co glxfwp nqh',\n",
              " 'virginamerica concern fli plane need delay due tech stop',\n",
              " 'virginamerica best airlin flown easi chang reserv help repres amp comfort fli experi',\n",
              " 'virginamerica anoth rep kick butt naelah repres team beauti thank',\n",
              " 'virginamerica beauti front end design right cool still book ticket b c back end secur',\n",
              " 'virginamerica love team run gate e la tonight wait delay flight kept thing entertain',\n",
              " 'virginamerica use anoth browser amp brand reput built tech respons cross browser compat websit',\n",
              " 'virginamerica flight flight book problem site total folk problem',\n",
              " 'virginamerica like custom servic min delay connect passeng seem long va',\n",
              " 'virginamerica thank outstand nyc jfk crew move mountain get home san francisco tonight',\n",
              " 'virginamerica absolut best team custom servic ever everi time fli delight thank',\n",
              " 'virginamerica need chang flight that schedul hour min wait time phone im call intern help',\n",
              " 'virginamerica complet awesom experi last month bo la nonstop thank awesom flight depart time vabeatsjblu',\n",
              " 'virginamerica fail custom check process link tsa pre check',\n",
              " 'virginamerica fidifamili us terribl airlin gave us hotel hotlin number said sorri',\n",
              " 'virginamerica chrysichrys assist yesterday u cancel flightl flight give us hotel hotlin shame',\n",
              " 'virginamerica anoth delay flight likingyoulessandless',\n",
              " 'virginamerica need regist servic dog first class ticket sfo gt dull phone queue hour longer pl advis',\n",
              " 'virginamerica rock make watch oscar flight redcarpet oscar oscar',\n",
              " 'virginamerica alway xoxo',\n",
              " 'virginamerica book seat flight buy even check creat much anxieti frustrat',\n",
              " 'virginamerica think pay extra buck rt luggag might afford hire extra hand sfo lame',\n",
              " 'virginamerica best custom servic rep world irmafromdalla take cake',\n",
              " 'virginamerica pleas provid statu flight cant imagin time web indic dude weather dalla',\n",
              " 'virginamerica amaz staff amp super help ran waltdisneyworld princesshalf spoil comfort',\n",
              " 'virginamerica paid premium fli across countri cancel flight flight offer check fee upgrad love sad face',\n",
              " 'virginamerica question possibl book seat infant give option want seat',\n",
              " 'alway togeth welcom rt virginamerica jessicajaym welcom',\n",
              " 'virginamerica flight home dc sunset globe backtowint back work refresh http co vx vbctdlf',\n",
              " 'virginamerica understand need dm give answer damag luggag polici',\n",
              " 'virginamerica mean polici destroy luggag',\n",
              " 'virginamerica thank check ticket purchas custom happi',\n",
              " 'virginamerica problem flight book problem web site keep give error contact phone phone minut wait',\n",
              " 'virginamerica reschedul cancel flightl flight onlin chang button grey',\n",
              " 'virginamerica rang wait minut book ticket vendor fix site',\n",
              " 'virginamerica got flight told today check email tomorrow unaccept',\n",
              " 'virginamerica flight lga cancel flight stuck dalla call reschedul told could get flight today',\n",
              " 'virginamerica pair includ red wine white offer redwineisbett',\n",
              " 'virginamerica websit',\n",
              " 'virginamerica site seem littl wonk right may want look tri two browser css http co qsqmm kf',\n",
              " 'virginamerica disappoint agent design silver statu check line dull airport close assist paseng',\n",
              " 'virginamerica normal receiv repli central baggag baggageissu smh',\n",
              " 'virginamerica logan airport wait checkin flight checkin desk open',\n",
              " 'virginamerica congrat got busi ewr sfo lax fuck unit fl sfo ewr clincher',\n",
              " 'virginamerica appli week ago heard back fli week disappoint',\n",
              " 'virginamerica thank follow',\n",
              " 'virginamerica mani apolog r wors airlin even respond cudtom',\n",
              " 'virginamerica shame va make peopl spend money strand citi airlin land jfk reimburs',\n",
              " 'virginamerica bad say take day via confirm email inquir week claim week',\n",
              " 'virginamerica flight bo gt la tomorrow cancel flightl notif wait time hour rebook anoth airlin',\n",
              " 'rt virginamerica met match got statu anoth airlin upgrad restr http co rhkamx vf http co pyalebgkjt',\n",
              " 'virginamerica way fli elev gold',\n",
              " 'virginamerica lot apolog thrown custom see sad thank noth worst airlin ever',\n",
              " 'virginamerica flight stuff wrong noth worst flight ever',\n",
              " 'virginamerica match americanairlin statu cool',\n",
              " 'virginamerica tri book flight guy websit let lose busi',\n",
              " 'virginamerica suck',\n",
              " 'virginamerica thank',\n",
              " 'virginamerica dm issu persist',\n",
              " 'virginamerica never rec cancel flightlat notic left w option fli ps drive la red eye mon w kid',\n",
              " 'virginamerica tri book flight amp site',\n",
              " 'virginamerica flight fli boston tomorrow need home cancel flightl flight anyth',\n",
              " 'virginamerica stink flight cancel flight psp jfk notif abil rebook disappoint expect better',\n",
              " 'virginamerica love guy song danc high school danc revu',\n",
              " 'virginamerica websit tri check',\n",
              " 'virginamerica done thank quick respons appar faster sit hold',\n",
              " 'virginamerica cool pictur anoth virginamerica plane wing site http co b agfd c',\n",
              " 'virginamerica keep great work',\n",
              " 'virginamerica good peopl love field amaz pressur texa beatstheoth crisi pleas fli ny',\n",
              " 'virginamerica thank great flight la boston pilot great job land snow go back la serious',\n",
              " 'virginamerica thank much awesom support guy rock',\n",
              " 'virginamerica seat row reclin mention websit soreback',\n",
              " 'virginamerica flight delay hour la due mechan problem handl like pro could toss us free drink',\n",
              " 'virginamerica cancel flight flight today precipit scare',\n",
              " 'virginamerica twitter team guy kill reschedul asap thank',\n",
              " 'virginamerica guy charg reschedul flight cancel flight refus refund deal',\n",
              " 'virginamerica access websit safari iphon seem work mac ipad need iphon add passbook',\n",
              " 'virginamerica mobil site broken show header elevateus numofpointsavail number point let checkin',\n",
              " 'virginamerica realli look forward flight let know reschedul diehardvirgin',\n",
              " 'virginamerica cancel flight flight vx one sec delay airport next cancel flightl gonna email call reschedul',\n",
              " 'virginamerica problem link email check thank',\n",
              " 'virginamerica chang anoth airlin get dc today unit abl land dc cost ugh',\n",
              " 'virginamerica look forward first flight today cancel flightl along subsequ one',\n",
              " 'virginamerica put great deal pdx la la pdx show love http co eniqg buzj',\n",
              " 'virginamerica wish afford fli next friday go back home love everyth airlin',\n",
              " 'virginamerica gonna deal dalla dc deal dc dalla sad',\n",
              " 'virginamerica hold time call center bit much',\n",
              " 'virginamerica like http co vpqem xuq',\n",
              " 'virginamerica site help',\n",
              " 'virginamerica best flight attend ever http co pxdel nq l',\n",
              " 'awesom rt virginamerica watch nomin film feet meetthefleet oscar http co dnstitrzwi',\n",
              " 'virginamerica thank much',\n",
              " 'virginamerica tri reset password email never arriv help',\n",
              " 'virginamerica airlin base silicon valley disrupt fcmostinnov incub fastcompani http co wu lbcncr',\n",
              " 'virginamerica nice done',\n",
              " 'virginamerica look forward watch oscar flight home tomorrow might even get someth bubbl drink',\n",
              " 'virginamerica reason delay departur vx jfk afternoon',\n",
              " 'virginamerica today flight palm spring ca jfk ny cancel flightl',\n",
              " 'virginamerica hahaha virginamerica guy amaz love guy',\n",
              " 'virginamerica sound like fun',\n",
              " 'virginamerica css site right pleas fix site unus',\n",
              " 'virginamerica flight vega boston today check onlin bag count regist fix somehow',\n",
              " 'virginamerica classiq luv virgin america greetingz',\n",
              " 'virginamerica hi tri check websit work tri differ browser problem continu',\n",
              " 'virginamerica thank great custom servic today amp help get travel sort',\n",
              " 'virginamerica thank guy sweet rout rocki airplanemodewason',\n",
              " 'virginamerica love music blast gate boston wait flight sanfrancisco could get ice coffe',\n",
              " 'virginamerica passeng flt assault flown trust ban crew file report faanew',\n",
              " 'virginamerica current bug websit show select departur citi select destin citi http co sllyib vq',\n",
              " 'virginamerica luggag sever dent miss wheel come baggag claim san luggag agent miranda think help',\n",
              " 'virginamerica thank easi itinerari shift impend weather quick painless amp free',\n",
              " 'virginamerica thank good time back vodkaton entir flight sfo',\n",
              " 'virginamerica great job ad littl luxuri aesthet improv air travel experi thank keep',\n",
              " 'virginamerica request window seat confirm window got stuck middl seat good way treat silver member',\n",
              " 'virginamerica wtf paid direct flight purpos stop fuel exhaust frequent flier noth inconveni',\n",
              " 'virginamerica someth wrong websit safari iphon',\n",
              " 'virginamerica thank gate check baggag full flight dfw lax give earli board sweet',\n",
              " 'virginamerica alreadi check page expir x',\n",
              " 'virginamerica boo refund seat upgrad fee want buy first place',\n",
              " 'virginamerica see',\n",
              " 'virginamerica inflight team make experi amaz',\n",
              " 'virginamerica cutest salt pepper shaker ever think guy get better http co vc keulg j',\n",
              " 'virginamerica move seat notic better seat cabin select behind row select disappoint',\n",
              " 'virginamerica fav airlin',\n",
              " 'virginamerica hot femal pilot sweet dca sfo',\n",
              " 'virginamerica alreadi contact central baggag amp sent dm renttherunway charg dress lost suitcas help',\n",
              " 'virginamerica thank',\n",
              " 'virginamerica anyth go websit get lot error past minut',\n",
              " 'virginamerica virginatlant check flight sfo lax amp told atlant fli club gold get benefit',\n",
              " 'virginamerica husband order three drink via screen never came awesom',\n",
              " 'virginamerica soooo guy go leav seatbelt light flight bare call turbul',\n",
              " 'virginamerica funni stori websit broken miss javascript stylesheet checkin process dislik',\n",
              " 'virginamerica would love virgin like gopro',\n",
              " 'virginamerica tri check ct flight tmm desktop websit work sort cach bug so',\n",
              " 'virginamerica guy know check link email broken http co npxb obmr',\n",
              " 'virginamerica love wait monday return flight mostli watch inflight safeti video sorrynotsorri',\n",
              " 'virginamerica lost luggag day ago flight vx lax iad amp call everi day respons pleas give back stuff',\n",
              " 'virginamerica flight book problem section websit seem broken chrome might wanna look',\n",
              " 'virginamerica hi want see new rout plan year newark love fli guy hope',\n",
              " 'virginamerica mean probabl inappropri board',\n",
              " 'virginamerica happi spend day togeth let',\n",
              " 'virginamerica understand help thx comp',\n",
              " 'virginamerica thank absolut',\n",
              " 'virginamerica look like broken link asset http co oardjjgrrd',\n",
              " 'virginamerica manag itinerari section websit seem broken http co pujvcelng',\n",
              " 'virginamerica check site look like everi time load http co kaci awdbw',\n",
              " 'virginamerica carrier less half price round trip fare stun http co ukdjjijrow',\n",
              " 'virginamerica wtf happen pdx late flight march one way sfo',\n",
              " 'virginamerica free drink flight back free promo',\n",
              " 'virginamerica ssal thank',\n",
              " 'virginamerica luggag gone file paperwork promis call email still resolut respons central luggag',\n",
              " 'virginamerica thank',\n",
              " 'virginamerica thank take care suuperg flight rockstar travel',\n",
              " 'virginamerica thank love soft view travel san sfo http co cnctl g ef',\n",
              " 'virginamerica request mileag challeng statu sever week ago onlin heard back get help',\n",
              " 'virginamerica tri book ticket nyc face super fun broken style worri keep tri',\n",
              " 'virginamerica appli statu match feb got confirm email day still news though guy drop ball late flightli',\n",
              " 'virginamerica ador look forward flight austin two week',\n",
              " 'virginamerica glad mention took first virgin flight year back transform experi',\n",
              " 'virginamerica tri check look like site',\n",
              " 'virginamerica spend birthday night dal dca get home',\n",
              " 'virginamerica sent coupl messag email provid avail tri next year cheer',\n",
              " 'virginamerica first time fli virgin went sanfrancisco thank smooth ride easili new fav airlin',\n",
              " 'virginamerica serious though direct flight sfo fll may',\n",
              " 'virginamerica fine alreadi done purchas tri go way go back',\n",
              " 'virginamerica realli experi hope ws forc check small carri w noth empti cabin space board',\n",
              " 'virginamerica wjere luggag slow lax',\n",
              " 'virginamerica spoke repres offer solut loyal custom fli virginatlant well',\n",
              " 'virginamerica deepli disappoint birthday promo appli trip book mere day receiv email',\n",
              " 'virginamerica happen direct flight sfo fll look may see connect help dontdothistom',\n",
              " 'virginamerica promot product problem southwest recommend noneoth best http co tfanxbh cf',\n",
              " 'virginamerica love guy pl get direct rout la au',\n",
              " 'virginamerica cours work virginatlant obsess entir virgin famili',\n",
              " 'virginamerica ok first time fli tonight',\n",
              " 'virginamerica emboss badg patch superior one current use http co fq xelbon',\n",
              " 'virginamerica vx jfk la dirti plane standard',\n",
              " 'virginamerica flight vx head la jfk dirtiest va plane ever sad great airlin',\n",
              " 'virginamerica got squar away someon pick soon tweet tweet sooner',\n",
              " 'virginamerica avi rental continu button work websit book car tri time phone suck',\n",
              " 'virginamerica delay',\n",
              " 'virginamerica current minut hold cust servic need anyth add lap child reserv',\n",
              " 'virginamerica karinsle cours fun celebr thank happi chines new year',\n",
              " 'virginamerica flight book problem last second flight next week sfo san chanc want gift promo code sinc love guy',\n",
              " 'virginamerica comen bank joke pleas chang noth constant problem bank',\n",
              " 'virginamerica grandma ella th would lt bday greet flight crew stewardess eastern airlin',\n",
              " 'virginamerica bought tix atx dalla rout thank ad love yr airlin amp yr websit best transact site ever',\n",
              " 'virginamerica gave credit late flight flight yesterday great servic wow moment unexpect gestur',\n",
              " 'virginamerica submit statu match request back still heard fli monday look acceler',\n",
              " 'virginamerica safeti video http co cqmm nue love first cross countri flight livewelltravel sytycd',\n",
              " 'virginamerica look fat look yummi',\n",
              " 'virginamerica omg omg nonstop dalla austin virgin',\n",
              " 'virginamerica plane realli pretti thought u know',\n",
              " 'virginamerica pull hair tri book flight u site work iphon ipad comput help',\n",
              " 'virginamerica thank',\n",
              " 'virginamerica get help support ticket day incid thank',\n",
              " 'virginamerica good home texa moodlight http co n bvzti zi',\n",
              " 'virginamerica cannot even open laptop seat c paid premium let',\n",
              " 'virginamerica seat c cannot even open laptop paid extra seat',\n",
              " 'virginamerica thank need way make austin trip dca come',\n",
              " 'virginamerica cool never ur plane',\n",
              " 'virginamerica great well deserv',\n",
              " 'virginamerica fyi info virginamerica com email address say contact password reset email exist email bounc',\n",
              " 'virginamerica statu match week gone news flt next week hope flt count toward requir cust svc help',\n",
              " 'virginamerica websit suck donkey dick thought know best',\n",
              " 'virginamerica crap channel pay watch uk tv',\n",
              " 'virginamerica got set thank',\n",
              " 'virginamerica giant virgin america match made heaven',\n",
              " 'virginamerica thank good also see friday nwk gt sf boom',\n",
              " 'virginamerica come iphon app still use make wast paper',\n",
              " 'virginamerica back seat entertain system accept credit card apostroph surnam apostrophefail',\n",
              " 'virginamerica vx use lga slot instead today ad au make less like',\n",
              " 'virginamerica luv ur peopl product thing u charg herbal tea black tea caffein drinker',\n",
              " 'virginamerica thank see soon excit see expans destin spread wing',\n",
              " 'virginamerica sad learn longer fli sfo gt phl hope return',\n",
              " 'virginamerica incred custom servic ever experienc refresh',\n",
              " 'virginamerica dream realli open rout dalla austin mean houston might next',\n",
              " 'virginamerica omg final',\n",
              " 'virginamerica kinda suck earphon jack work flight may want look futur passeng',\n",
              " 'virginamerica poor experi first comput problem seat malfunct stuck miss meet san diego',\n",
              " 'virginamerica thankyou dal au rout make day',\n",
              " 'virginamerica awesom deal dal au way http co xcvqxykg',\n",
              " 'virginamerica love take southwestair backyard consum win biz compet',\n",
              " 'virginamerica fli love austin excel news',\n",
              " 'virginamerica congrat vx new rout',\n",
              " 'virginamerica tri offer charg addit k new ticket strand thur st time last time',\n",
              " 'virginamerica never bad experi one took cake extort carri item well',\n",
              " 'virginamerica spend hour worri item carryon would broken stolen sinc carri plane lock bag',\n",
              " 'virginamerica group e told room bin got plane room least bag row',\n",
              " 'virginamerica thank make flight lax jfk nightmar forc check carri bag gate',\n",
              " 'virginamerica lot flight book site work phone wait minut',\n",
              " 'virginamerica flight artisan chees wine pair',\n",
              " 'virginamerica classi',\n",
              " 'virginamerica sure lot jfk lhr flight go lot faster mph strong tailwind',\n",
              " 'virginamerica minu minut elev silver upgrad window open freeneversuck',\n",
              " 'virginamerica take year fli home dalla get shit togeth',\n",
              " 'virginamerica jezziegoldz would rough trip luckili virginamerica flight weather',\n",
              " 'virginamerica anoth perfect flight come plane sun visor stay carrier make rais',\n",
              " 'nice rt virginamerica man steel might faster wifi say sciencebehindtheexperi http co fgrbpazsix',\n",
              " 'virginamerica love danc littl richard cool bean',\n",
              " 'virginamerica use passbook still love though lt use email futur',\n",
              " 'virginamerica thank free birthday point right',\n",
              " 'virginamerica man steel fli citi though frequenc',\n",
              " 'virginamerica thank much share ad site http co tsvibtvt h',\n",
              " 'virginamerica dad segway best part whole infograph',\n",
              " 'virginamerica plan short haul airlin europ would defiantli fli guy',\n",
              " 'virginamerica wifi better seat',\n",
              " 'virginamerica start flight scold use overhead bin offer person seat next',\n",
              " 'virginamerica great return call day ask myvxexperi',\n",
              " 'virginamerica airlin cancel flight flight bo help custom get home virgin say good luck',\n",
              " 'virginamerica group virgin other bo weather expos actual cu serv model never flight book problem virgin',\n",
              " 'virginamerica one travel affect boston storm shock virgin complet apathi toward custom',\n",
              " 'virginamerica umm reason someon differ contact contact get definit answer',\n",
              " 'virginamerica tri make chang advanc hour prior tri onlin earlier want chang fee',\n",
              " 'virginamerica loyal drive nyc pa fli virgin sinc cut philli flight',\n",
              " 'virginamerica guy perfect alway lt wervirgin',\n",
              " 'virginamerica thank best custom servic left industri',\n",
              " 'virginamerica realli wish fli fargo fargoairport fare amaz',\n",
              " 'virginamerica mood light point reclin seat kickin feet',\n",
              " 'virginamerica flight schedul pm departur still say time plane gate updat long delay',\n",
              " 'virginamerica group got cancel flightlat fee waiv ticket book rep help either',\n",
              " 'virginamerica got pm newark home la folk ewr incred letsgohom',\n",
              " 'virginamerica fli lax sfo look awesom movi lineup actual wish long haul',\n",
              " 'unit thank',\n",
              " 'unit thank take care mr happi custom',\n",
              " 'unit still refund word via dm pleas resolv issu cancel flightl flight useless assist trip',\n",
              " 'unit delay due lack crew delay long line deic still need improv servic unit',\n",
              " 'unit thank fill luck common',\n",
              " 'unit eri ord express connect huge popular could eri ewr hop',\n",
              " 'unit think board flight au earli think',\n",
              " 'unit gate agent hook altern flight way prevent constant issu would rock',\n",
              " 'unit thank',\n",
              " 'unit thank ticket',\n",
              " 'unit worst nonrefund first class ticket oh select global fc system auto select economi w upgrad',\n",
              " 'unit cheertymedad buy tix day flight transfer tix flaw secur logic flaw custom servic',\n",
              " 'unit start claim week unrealist realli suppos go long car seat child ridicul',\n",
              " 'unit follow pleas airlin beautiful',\n",
              " 'unit car seat lost unit reimburs new one pair shoe necess child',\n",
              " 'unit highbuddyyi total suck cousin work phl said unit',\n",
              " 'unit want let know wonder rosetta gate agent work flight dan ase let know wasappreci',\n",
              " 'unit begin feb call unit said would send anoth voucher mail never got anyth tiredofwait',\n",
              " 'unit internet great thing email execut compani mayb respond time manner',\n",
              " 'unit that weak see ya hey virginamerica',\n",
              " 'unit flew back w compani sinc unit didnt earlier flight',\n",
              " 'unit tri book award septemb need flight aegeanairlin show even w mani award seat availab',\n",
              " 'unit sure drive total hour get bag like explain debacl one want talk',\n",
              " 'unit see told repeatedli pilot late flight kept get late flightr board defibril issu',\n",
              " 'unit prefer secur line anymor tsa pre check pull silverairway partner flight platinum spoil',\n",
              " 'unit newarkliberti airport need indic differ gate termin amp c flyingainteasi',\n",
              " 'unit ye pleas newli marri tri updat last name preexist intern flight seem easi',\n",
              " 'unit unit refus reissu lost voucher plane take due mechan badcustomerservic',\n",
              " 'unit also run instruct shatter comput http co oaflfr wxb',\n",
              " 'unit ye agent last minut one agent rude thank ladan nice',\n",
              " 'unit iah charlott baggag claim rep latric h customerservic non exist ignor custom inappropri touch custom',\n",
              " 'unit thank help got need issu austrian guess sit awhil longer',\n",
              " 'unit uctraveladvisor would love respond websit saw realli long form busi new seat bad',\n",
              " 'unit refund flight voucher anoth flight differ airlin expens today hour drive inconveni',\n",
              " 'unit receiv call back day infant car seat suppos go anywher child',\n",
              " 'unit well sit ground time wait gate tiredofthi',\n",
              " 'unit airport snow remov method keep good work folk cessna becom http co v tmusjvu',\n",
              " 'unit need guy book plane concern travel someon els move forward',\n",
              " 'unit measli e certif appreci loyal custom wait hr tarmac ua unaccept',\n",
              " 'unit email address usernam sign avail',\n",
              " 'unit thank abl claim interim expens cost stuff',\n",
              " 'unit rude rude',\n",
              " 'unit get board pass austrian airlin codeshar flight rebook incl hour layov amp stuck outsid sec',\n",
              " 'unit receiv flight unit truli break guitar unitedbreaksguitar wantmymoneyback',\n",
              " 'unit flew telaviv paid third suitcas even make plane besid impolit servic',\n",
              " 'unit bag still colo spring disabl search unfamiliar airport look bag good outcom',\n",
              " 'unit shame flex ticket transfer rule even call neurosurgeri icu enough',\n",
              " 'unit denver said handl baggag made colo spring gave number call help either',\n",
              " 'unit guy need seriou train custom servic mani better option put way guy handl ur mistak',\n",
              " 'unit found problem avoid like plagu told find supervisor',\n",
              " 'unit zcc u cancel flight flight h advanc need connect flight reschedul link help help gf wait month see',\n",
              " 'unit fli',\n",
              " 'unit addit first flight delay hour arriv destin hr late flight',\n",
              " 'unit flew unit last month experi awesom',\n",
              " 'unit travel book thru unit group dept okc ticket agent less will help connect lax',\n",
              " 'unit v upset disabl servic told one employe carri medic equip rude',\n",
              " 'unit thnx quick repli think assist intl grp put consider inconveni today',\n",
              " 'unit wont transfer flight ticket accompani yr old activ militari mom emerg brain surgeri wow',\n",
              " 'unit getmeontop week late flightr still receiv mile mileageplu gift card starbuck card hand',\n",
              " 'unit k alway hope improv',\n",
              " 'unit yet complain guy check luggag throw bag around unfortun coincid hope',\n",
              " 'unit okc ticket agent roger mclarren sp less help intl group travel problem find supervisor help',\n",
              " 'unit mobil app need construct ground os categori expens get right',\n",
              " 'unit anoth fail unit ticket agent okc less help could care less problem american come',\n",
              " 'unit also work wc coach good thing bird land ahead schedul use wc stat',\n",
              " 'unit sent email custom care tell may break sincer hope help',\n",
              " 'unit silli fli delta today unit club staff attend surli unhelp alway seem bother peski folk',\n",
              " 'unit phone number find call flight reserv',\n",
              " 'unit well fix miss buddi th bday neglig attempt make',\n",
              " 'unit believ help custom servic like said want number someon fix',\n",
              " 'unit help baggag servic desk said bc tsa screen fll bag made bag ewr',\n",
              " 'unit mobil board pass disappear phone stand line board second time week hmm',\n",
              " 'unit record rozana newark love help choosekind',\n",
              " 'unit thx updat',\n",
              " 'unit explain eager flight attend tri ask vision ccicanin guid dog',\n",
              " 'unit point ask detail servicedog book flight crew read continu',\n",
              " 'unit tri one avail bogota everyon rude houston stuck hour guy',\n",
              " 'unit worst unitedflightsev ua la iad mechan problem took land fix delay wtfodd',\n",
              " 'unit despit bag make newark good inform email track updat help',\n",
              " 'unit go ua outbound flight last thur delay hr long delay worst unitedflightsev',\n",
              " 'unit worst unitedflightsev ua iad la mechan problem switch aircraft delay hour',\n",
              " 'unit crash tri check',\n",
              " 'unit wow deal plu seat avail easi chang make custom happi',\n",
              " 'unit logan board gong show due lax carri enforc bin full coat room bag u need better system',\n",
              " 'unit blackmail pay extra return ticket nullifi san francisco airport terribl servic rep scam',\n",
              " 'unit disappoint u didnt honor credit given ur mistak take busi elsewher',\n",
              " 'unit ua still wait suppos depart',\n",
              " 'unit credit last trip never came mail',\n",
              " 'unit ok month wait hear airlin gave quit bit day request terribl servic',\n",
              " 'unit process ever end still wait repli sinc month pathet customerservic',\n",
              " 'unit go websit flight book problem three ticket today boot system umpteen time',\n",
              " 'unit get account number websit say email unavail',\n",
              " 'unit receiv bag last night still miss one',\n",
              " 'unit simonroesn need upgrad seat even economi plu like sit concret bench',\n",
              " 'unit nd flight also delay pilot board sit schedul',\n",
              " 'unit hard stay upset someon least tri show remors',\n",
              " 'unit way simpl apolog goe long way even hollow one obviou care well',\n",
              " 'unit one time thing either shock pattern repeat neglect disrespect',\n",
              " 'unit finger cross amp intact disappoint experi actual say enjoy use',\n",
              " 'unit incred easi fix would rather stay comfort zone get forc mine',\n",
              " 'unit juli zero excus date system caus problem like',\n",
              " 'unit everyon around us sit friend famili member book ticket octob decemb bought',\n",
              " 'unit sure talk go nonstop flight sna sfo sfo ewr',\n",
              " 'unit move americanair unit talk servic',\n",
              " 'unit ask legitim question systemwid vs local problem got back unrel flightd copi past better',\n",
              " 'unit time call need ski go airport get faith unit',\n",
              " 'unit see guy amaz one compani continu make mistak yet fail held account error',\n",
              " 'unit yeah sorri alway problem unit intern reput problem',\n",
              " 'unit mayb bbbne sd ks ia would care hear went whoever listen issu caus',\n",
              " 'unit wonder share fb insta would produc number charact realli limit stori tell',\n",
              " 'unit tell number call left airport neglig pilot staff',\n",
              " 'unit could email resent doesnt appear arriv',\n",
              " 'unit follow order dm come',\n",
              " 'unit unit coupon make broken entertain system hour flight serious ridicul learncustomerservic',\n",
              " 'unit drop bag overnight amp leav week suppos hold bag',\n",
              " 'unit dm detail still respons book today',\n",
              " 'unit abl dm confirm number',\n",
              " 'unit sent messag let know got twitter liter also realli go stuck hr',\n",
              " 'unit unhappi respons complaint email nd feb ref aw custom servic',\n",
              " 'unit privat jet would cool work tri',\n",
              " 'unit given option use unit travelbank recent flight book problem help use recoup fund thank',\n",
              " 'unit common keep paper work readi delay flight meet choosechicago',\n",
              " 'unit yep correct got email flight cancel flightl matter flight atl delay thx',\n",
              " 'unit k problem get fll iah sent dm make connect pleas let know',\n",
              " 'unit thank sent',\n",
              " 'unit ground montreal ua miss connect ua st loui help privat jet',\n",
              " 'unit frustrat nervou',\n",
              " 'unit one make difficult',\n",
              " 'unit child someon issu fli prepar ahead time reduc distress caus plane',\n",
              " 'unit get cancel flightl hour take',\n",
              " 'unit alway happen guy make travel incred stress uncomfort good busi',\n",
              " 'unit someon sever anxieti one person help next',\n",
              " 'unit seek go client b c u cant get need refund fill form confid work past indic',\n",
              " 'unit unrival access california flight u uk airport nonstop one stop connect year round',\n",
              " 'unit luckili made flight time disappoint lack commun',\n",
              " 'unit check see flight atl ord got cancel flight',\n",
              " 'unit servic far horrid want end trip high note guess option',\n",
              " 'unit book flight home month ago request seat togeth fianc e got middl seat unaccept',\n",
              " 'unit guy horribl',\n",
              " 'unit thnx info',\n",
              " 'unit pay wifi intern busi ticket pennypinch',\n",
              " 'unit ok top thing lost luggag could get wors unitedairlin',\n",
              " 'unit kudo cancel flightl flight dfw morn unit usual first panic',\n",
              " 'unit luggag broken youcouldntmakethi brokenwheel',\n",
              " 'unit mayb one day one quot http co mjkpgvxmpc',\n",
              " 'unit flight delay one rememb turn heat flight leav ord serious',\n",
              " 'unit anoth awesom new plane flight extrem nice captain steve connolli',\n",
              " 'unit speak real person get resolv polit effici',\n",
              " 'unit file refund claim told charg dm disput bank henc would like',\n",
              " 'unit bag make flight iad second day without cloth pretti inconveni pretti curiou unitedairlin',\n",
              " 'unit everi unit flight saipan guam adventur never know capeair old plane oper',\n",
              " 'unit henc ask custom servic phone number speak real person get sort',\n",
              " 'unit bag leav washington yet would conveni see left day ago unitedairlin lostluggag',\n",
              " 'unit accord dm owe refund pleas may provid contact number go bank file claim',\n",
              " 'unit hour ago need work bag make hotel time need go elsewher',\n",
              " 'unit pl properli train agent request speak k custom servic amp transfer dead end even open hr',\n",
              " 'unit thank rememb load bag onto connect flight oh wait forgot iceland fun cloth',\n",
              " 'unit thank chees platter abund entertain option time flew',\n",
              " 'unit custom servic atroci disrupt travel plan lost luggag imposs talk human',\n",
              " 'unit termin mia food open esp flight two hour earli like recommend eat',\n",
              " 'unit ua flight current stuck portland miss ride hour delay getmartyhom',\n",
              " 'unit respond variou request contact number anyon know uk custom servic number unitedairlin',\n",
              " 'unit look get bag lusaka',\n",
              " 'unit could updat suitcas pleas onlin phone track told noth told back yesterday',\n",
              " 'unit thank tri two day set',\n",
              " 'unit last thing u guy charg drink transatlant flight',\n",
              " 'unit lhr arriv loung fail wait min shower left find hotel u know mani passeng u carri plan',\n",
              " 'unit complet form doubt use ua care day vacat sure ua feel respons',\n",
              " 'unit definit compliment realli thought bag lost sent anoth airport end happi custom',\n",
              " 'unit thanx much follow email ticket voucher unitedairlin care',\n",
              " 'unit definit trip rememb ewr sti second season first seat pay loyal',\n",
              " 'unit nope told us time go home sleep airport even though assur us would get room',\n",
              " 'unit back expens holiday work year pay ruin want compens amp origin case back',\n",
              " 'unit thank unit understand would actual like bag back done also want money',\n",
              " 'unit frankli wors custom servic ever problem happen deal defin compani never unit',\n",
              " 'unit still valid flight seem strang delay late flight inbound crew hour plane alreadi',\n",
              " 'unit thank lack help can respons k desk',\n",
              " 'unit bad ua anoth unforese oper issu return flight',\n",
              " 'unit pay luggag deliv arriv wait addit day deliveri',\n",
              " 'unit hotel peopl feel like held hostag someon board pass leav fail',\n",
              " 'unit one great airlin',\n",
              " 'unit outbound bag lb bag return home bag lb logic write machin human help requir',\n",
              " 'lindaswc unit like hear poor experi pleas share detail w custom care team http co hisc ndmgz',\n",
              " 'unit cancel flightn left us fend flt came late flight get runaround hr employe blame previou',\n",
              " 'unit okay ase find luggag',\n",
              " 'unit agent met us gate said issu w delay ua would taken onlin',\n",
              " 'unit ladi one phone say tel aviv tel aviv unit say newark one know noth',\n",
              " 'unit melaniespr see kn run plane run thank help',\n",
              " 'unit ye still answer mani luggag day unaccept',\n",
              " 'unit go noth like alway',\n",
              " 'unit plu food taxi',\n",
              " 'unit offer us room peopl fail',\n",
              " 'unit peopl get pretti tire action solv problem plu miss day vacat ski',\n",
              " 'unit bright side would keep promis made hope good night thank',\n",
              " 'unit take back comment team work hard help us far solut hotel food anyth fail',\n",
              " 'unit arriv two hour late flight clt sit tarmac move plane gate unhappi custom',\n",
              " 'unit airlin absolut worst idea neveragain unitedairlin',\n",
              " 'unit thank might want fix line custom care team current respond inquiri within busi day',\n",
              " 'unit flew unit au austin bergstrom cancun intl best flight ever big small',\n",
              " 'unit frustrat frequent flyer loyal sinc continent upgrad equal pay time top purchas ticket',\n",
              " 'unit wors figur pack plane screw connectn claim hotl room san fran strand pax way go',\n",
              " 'unit passeng hour delay flight left hotel end night hou airport wtf http co zfqmpgxv',\n",
              " 'hey unit flight iah po leav late flight one back iah earli rather get po earlier',\n",
              " 'unit lost bag process broken agent promis call amp hold bag found wake w deliveri fail',\n",
              " 'unit peopl counter help see nobodi flight austin still sit',\n",
              " 'unit darquenlov regret hear pleas let us know need assist kn final abl secur seat thx',\n",
              " 'unit good know open close door premier passeng safeti brief delay flight annoy',\n",
              " 'unit yea get phoenix alreadi delay day peopl bullshit',\n",
              " 'unit consol staff stellar hour delay encount everi one flight',\n",
              " 'unit flight ua gate b tell ray somehow made flight iah wait one',\n",
              " 'unit unfortun tumitravel xma gift look like razor rip right front pocket pictur',\n",
              " 'unit thank ask',\n",
              " 'unit lost bag cancel flightl flight delhi call center poor unit staff spread thin stress name',\n",
              " 'unit ye make mistak less absurd chang fact inconveni miss luggag tonight',\n",
              " 'unit constantli challeng upgrad amp charg order prevent dvt pay addtl http co xc jq r b',\n",
              " 'unit ord wait min crew member left gate item came flight attend sarcast said good luck walk away',\n",
              " 'unit',\n",
              " 'unit favorit airlin',\n",
              " 'unit serious fail make stranger share room',\n",
              " 'unit need asap make today flight',\n",
              " 'unit agent split reserv cancel flight refund credit wk',\n",
              " 'unit would make share room',\n",
              " 'unit tri call w min phn wait mean miss option anyway',\n",
              " 'unit ask guy flight bwi wait us get delay flight san diego pretti pleas',\n",
              " 'unit still wait find rep work hard upset wait tomorrow pm get mammoth',\n",
              " 'unit earli flt think call appropri ye review nada avail next day expect full refund',\n",
              " 'unit ask call get fix tweet bs question stall make thing wors phone number pleas',\n",
              " 'unit yo yo yo stuck tarmac hour fli ohar go miss ride flypdx help pleas helpimstuck unit',\n",
              " 'unit highli unprofession overbook flight seat amp feel rearrang schedul mismanag',\n",
              " 'unit well consid everi agent claim unabl help everyth els wast time hear call corp',\n",
              " 'unit man wait book ticket thank jp life sabe',\n",
              " 'unit ice total understand larg number us face hour time overnight cancel flightat seem like',\n",
              " 'unit flt cancel flightl get email happen courtesi phn call book diff airlin amp citi',\n",
              " 'unit tag number let find bag',\n",
              " 'unit better train support staff appropri decorum consid revisit terribl provid death certif polici',\n",
              " 'unit well bar set low guy realli good apolog game chang u guy learn',\n",
              " 'unit guy continu impress houston http co cih qnllcm',\n",
              " 'unit way make phone call need handl via twitter email web thank',\n",
              " 'unit websit deserv new design html ftw',\n",
              " 'unit thank ef holiday miss full day ski due baggag team incompet flyyow',\n",
              " 'unit agent help person front finish walk away guy behind shock',\n",
              " 'unit connect ord exact plane check carri appar taken amp left chicago pretti ridicul',\n",
              " 'unit encourag cpap tonight',\n",
              " 'unit ye file claim soon carousel stop without bag got email found sched deliveri',\n",
              " 'unit delay den cle manual enter baggag tag realli worst cust servic day ker friendlyski',\n",
              " 'unit tell us flight delay tell us time min spare say delay unless sure',\n",
              " 'unit ye lusaka zambia guess bag never made plane iad',\n",
              " 'unit late flight denver late flight newark let even get disast check bag unaccept',\n",
              " 'unit let think ever flown problem worst airlin period',\n",
              " 'unit ye file claim amp hope receiv luggag ridicul purchas item go sleep amp reimburs',\n",
              " 'unit ua ord lhr bag load min late flight frigid air cabin plane feel like fall apart upgrad long haul fleet',\n",
              " 'unit flight attend never serv beverag tea check give ua notcool',\n",
              " 'unit load balanc system appar systemwid major impact unit airlin flight cyberattack',\n",
              " 'unit unschedul refuel stop miss connect flight r home n look ward bed big pb amp j sandwich',\n",
              " 'unit americanair spent hundr rectifi situat guy go quiet',\n",
              " 'unit ua sit ewr nearli hour sked pilot say comput clue leav help',\n",
              " 'unit americanair end come travel liter extra day half',\n",
              " 'unit made upgrad list fli st tomorrow min first time ever statusmatchpaidoff http co atfrkp goy',\n",
              " 'unit refund us vacat get free room night make make us sleep dia',\n",
              " 'unit thank remind fun ride http co ppva rch f',\n",
              " 'unit receiv luggag also look left snow arriv ask peopl refund',\n",
              " 'unit updat aircraft wifi devic entertain outlet get charg devic',\n",
              " 'unit one scan insid plane ask peopl line around plane go',\n",
              " 'unit gate chang two delay even crew think airlin suck',\n",
              " 'unit frustrat wast day due equip failur',\n",
              " 'unit comput stop give updat took flight info app ridicul keep peopl updat',\n",
              " 'unit soooo day offer respons assum poor treatment gate agent norm',\n",
              " 'unit terrif mani thank look forward back ua tomorrow great flight vancouv',\n",
              " 'unit call result hr hold time amp day wait check suspect code share fare noth investig time wast',\n",
              " 'unit taken week cust care respond case request refund wi fi work get updat',\n",
              " 'unit appreci effort get home',\n",
              " 'unit correct spent hour tri book onlin receiv error click final purchas button',\n",
              " 'unit today finest could prevent one gate agent advis passeng',\n",
              " 'unit real deal delay flight ua denver vega',\n",
              " 'unit ua madrid arriv agent mass confus sent fro ua employe maryjo rude unhelp',\n",
              " 'unit system failur bad trend softwar project like fli airplan thing emerg takeoff',\n",
              " 'unit lot report system failur delay flight last week current sit tarmac ogg hour',\n",
              " 'unit despit shaki connect look like get home tonight great job unit touch go',\n",
              " 'unit http co hj kq chn howev complet control price still display http co hj kq chn',\n",
              " 'unit tell file claim cloth purchas',\n",
              " 'unit comic return flight ase two unit flight board adjac gate clear plane board',\n",
              " 'unit grk file refer',\n",
              " 'unit would contact discuss poor experi custom servic would give shot',\n",
              " 'unit ua pacif rim date night cut constantli randomli one spot repeat',\n",
              " 'unit tri sinc file report',\n",
              " 'unit send email bad experi send back gener respons yet anoth reason never fli',\n",
              " 'unit ticket pleas refund unnecessari upgrad fee',\n",
              " 'unit horribl lost carseat expect us use loner carseat safeti regul say illeg use use car seat',\n",
              " 'unit thank',\n",
              " 'unit care thehipmunk link show wrong price site site amp respons ensur correct',\n",
              " 'unit need get home th tell th night compens anyth done',\n",
              " 'unit mllovelac baggag fee waiv premier member pleas see http co u duw mde jp point membership',\n",
              " 'unit wonder bag claim peopl final bag catch earlier flight origin flight land wastedtim',\n",
              " 'unit dmed thank',\n",
              " 'unit thank touch',\n",
              " 'unit thank karen salisburi iah amaz custom servic found daughter bag lost ua made day',\n",
              " 'unit day late flightr bag left iad unit help everyon tell differ stori',\n",
              " 'unit left comment custom care thank contact',\n",
              " 'unit lose gate check bag den ord direct flight ugh',\n",
              " 'unit caught earlier flight ord gate check bag lost hare origin flight land minut frustrat',\n",
              " 'ye thank much unit whitterbug see spoke reserv team reinstat flight thank ey',\n",
              " 'unit captain behalf front offic welcom board never heard laugh hard funnycaptain',\n",
              " 'unit pleas follow dm miss bag',\n",
              " 'unit great fare',\n",
              " 'unit left item plane call non stop one answer pleas help',\n",
              " 'unit awesom book next christma vacatinn decemb way want devalu mileag plu',\n",
              " 'unit good number call speak someon fix peopl luggag saturday',\n",
              " 'unit thank u secur room night thx help custom servic rep n dorn thank u goodenoughmoth',\n",
              " 'unit damn bag',\n",
              " 'unit well someon tell employe denver baggag claim still bag',\n",
              " 'unit divert miss connect flight told bag way msi peopl care',\n",
              " 'unit male agnt la threaten canadian cust cust take pic gate agent announc help rebook friendlyski',\n",
              " 'unit apollochplay want go home tonight cancel flight last leg reserv w permiss ph rp',\n",
              " 'unit stress rude agent overwhelm delyd flight la den yell sever peopl pretti friendlyski',\n",
              " 'unit land boston last night hour travel rough tho',\n",
              " 'unit fail cancel flightl flight frm gjt use reserv home iah sea reflight book problem w permiss ph rp',\n",
              " 'unit made fli list airlin wait connector late flight stuck iah',\n",
              " 'unit also mere fact go onlin issu statement vice call talk directli one good exampl',\n",
              " 'unit thank flew newark vail eagl',\n",
              " 'unit weekend deal compani would say otherwis',\n",
              " 'unit http co hpsqvrjk flight gone got plane businesstravel goodenoughmoth',\n",
              " 'unit proper respons sorri wait flight look issu delta would handl',\n",
              " 'unit custom servic terribl stood inlin hour flight hour late flightr still bag disgutedindenv',\n",
              " 'unit inadequ accid',\n",
              " 'unit reebok rockinwel denver intern airport http co tkvmhbkec',\n",
              " 'unit thank respond quickli help tool dustyob',\n",
              " 'unit board time show min gate agent start show check bag http co zcbjyo lsn',\n",
              " 'unit agent la let custom know help rebook delay flight den unfriendlyski http co quzvmk rtr',\n",
              " 'unit empath w disappoint stclass flight w nonwork entertainmnt worth unfriendlyski http co loeco gmvd',\n",
              " 'unit work',\n",
              " 'unit search mileag ticket bom find singl one saver award see play earn mile use',\n",
              " 'unit flight arriv minut earli wait hour bag',\n",
              " 'unit issu fact one even call despit promis confirm bag locat',\n",
              " 'unit still wait hear back wallet stolen one plane would appreci resolut',\n",
              " 'unit flysaa lost baggag heard differ thing differ employe unit flysaa said noth',\n",
              " 'unit cs think mile repair damag done interest travel unit exp worst flight ever',\n",
              " 'unit sign notif first trip updat sure happen',\n",
              " 'unit thank took care everyth made right experi use open app find flight chang',\n",
              " 'unit line respons wait tomorrow morn flight overbook',\n",
              " 'unit took exact aircraft lax day ago fit problem agent today told nonsens polici chang',\n",
              " 'unit help agent club help baggag fee night life stop busi silverairway',\n",
              " 'unit never heard http co qdebyahqfm',\n",
              " 'southwestair charg ticket chang fee incur mysteri cost incur unit',\n",
              " 'unit exhaust amp frustrat link fb post abt travel issu http co larkc vc',\n",
              " 'unit deni get plane w get chanc prove fit rooki read bio',\n",
              " 'unit exactli point fit premier access board group return ticket yr',\n",
              " 'unit never experienc worst custom servic place blame codeshar partner assum respons unaccept',\n",
              " 'unit current board check terribl staff rude expens luggag thrown around etc',\n",
              " 'unit fuck void ticket kept money even apolog never fli airlin unitedairlin',\n",
              " 'unit worst custom svc kevin rep call center must investig baggag lost help argument',\n",
              " 'unit sell ticket silverairway http co onhxhco bk terribl servic ua staff cannot reach silver',\n",
              " 'unit got demot gold cuz hubbi got pqd tho enuf spent gold spousal discrimin angri',\n",
              " 'unit thank',\n",
              " 'unit favorit way travel thank http co vgn x ckg',\n",
              " 'unit ye lot terribl custom servic newark despit rais complaint ignor henc tweet',\n",
              " 'unit love new plane lga ord power outlet',\n",
              " 'unit tweet id number reveal home address anyon web',\n",
              " 'unit file delay bag report saturday flight cancel flightl never went anywher',\n",
              " 'unit need land ewr baggag claim file sent employe droppeditoffyet',\n",
              " 'unit rare ceas amaz wors hope last time fli',\n",
              " 'unit icloud yet pleas help',\n",
              " 'unit respons back',\n",
              " 'unit atroci custom servic',\n",
              " 'unit albanyairport delay departur check bag gate claim space fill walk open space delay poorcustomerservic',\n",
              " 'unit cancel flight flight reason amp phone hour vacat',\n",
              " 'unit dfpietra respons shake head back forth tsk better custom servic apolog',\n",
              " 'unit cours bag frustrat',\n",
              " 'unit worst avoid like plagu',\n",
              " 'unit worst airlin world',\n",
              " 'unit someon need dm resolv correctli extrem disappoint servic receiv terribl manag',\n",
              " 'unit premier gold desk chang flight waiv fee give wrong flight jana acosta salt lake refus servic angri',\n",
              " 'unit give one thing consist unfortun consist job well alwaysdelayedonunit',\n",
              " 'unit right angri',\n",
              " 'unit first time fli unit also last time terribl back virginatlant branson virginatlant unitedairlin',\n",
              " 'unit use commit continentalairlin flyer merger rememb switch southwestair communicationfail',\n",
              " 'unit least could offer ticket coach instead cancel flight reserv glitch notfair',\n",
              " 'unit say made flight poor non commun unaccount lost time amp lot frustrat flyer stand around',\n",
              " 'unit think dm would better',\n",
              " 'unit gate announc state delay due mainten yet app say late flight arriv aircraft tell truth unfriendli',\n",
              " 'unit easili worst compani ever experienc lost someon person possess amp care less',\n",
              " 'unit app show arriv aircraft earli depart flight delay due late flight arriv aircraft unfriendli',\n",
              " 'unit alreadi airport hr late flightr still guy realli kill today tri stay posit',\n",
              " 'unit unit servic level reach etihad let realist lufthansa ill consid',\n",
              " 'unit realli someon call sick someon forgot call replac hour late flight take theworst',\n",
              " 'unit ask flight attend typic compens would amp say might get free tv unaccept',\n",
              " 'unit disappoint today simpli put rather unpleas thing current flight delay cant wait get home',\n",
              " 'unit round trip non english speak friend strand twice hour time staff member rude',\n",
              " 'unit found group peopl actual hate peopl isi that right unit airlin',\n",
              " 'unit nope walk amp orf termin amp unit agent found show last minut board us mani panick peopl',\n",
              " 'unit thank',\n",
              " 'unit time final get dalla could driven less frustrat cheaper',\n",
              " 'unit tri get final destin need compens hr person time wast',\n",
              " 'unit guy realli custom servic clue could spent effort clear bin rollerboard instead art project mine',\n",
              " 'unit prioriti iov',\n",
              " 'unit pleas premier platinum',\n",
              " 'unit put bag plane seattl flight wait line talk someon bag statu matter',\n",
              " 'unit campilley hahaha american compani would say great sarcasm',\n",
              " 'unit think actual like screen campilley',\n",
              " 'unit appar ask peopl board plane big miscalcul made',\n",
              " 'unit shame choos unit may differ reunit age friend never see poorservic',\n",
              " 'unit check statu claim go month attent upset',\n",
              " 'unit flight delay due mainten lit caus miss connect iah msi help',\n",
              " 'unit unitedairlin pl fix aspenbaggagefail issu pay way aspen flight cancel flight left us cold den',\n",
              " 'unit read bio see work never encount airlin disappoint understat',\n",
              " 'unit custom care email phone rep speak mani issu place charact',\n",
              " 'thank unit truu tall certainli take look pleas follow dm confirm number assist jh',\n",
              " 'unit process recov car rental condo rental florida call unit altern flight noanswer',\n",
              " 'unit thank listen definit person line thought absurd',\n",
              " 'unit wait tarmac gt hr appar ua overweight amp return gate wtf fb',\n",
              " 'unit thank mention board ask person measur bag anoth woman men ask',\n",
              " 'unit leav tarmac unit gate agent cannot agre head count min count peopl max epicfailunit',\n",
              " 'unit real dedic amp concern apolog fix issu miser issu past mo',\n",
              " 'unit block dm ing would rather complain public forum',\n",
              " 'unit ok submit thank opportun give feedback',\n",
              " 'unit big thank ms winston assist phone baggag claim issu today realli went extra mile',\n",
              " 'unit soon done articl thank tom',\n",
              " 'unit book flight charg twice mean redeem cc point properli would gone elsewher',\n",
              " 'unit ton problem get bag given run around day what',\n",
              " 'unit pedophil airlin split yr old daughter row apart flight boston',\n",
              " 'unit wait day militari bag airport hour away horribl',\n",
              " 'unit arriv minut earli nice equip readi wait minut luggag far time gain wipe',\n",
              " 'unit musician real dirti lax never block get flight bass',\n",
              " 'unit rebook line peopl deep',\n",
              " 'unit flyeia ye said took hour',\n",
              " 'unit whose pay actual fli k year deserv better servic cc holder',\n",
              " 'unit ok thank help',\n",
              " 'unit happi flyer ua flight sfo cleveland sunday stay tune blog articl http co vdfdodqvgx',\n",
              " 'unit flight plane sfo den basic time',\n",
              " 'unit thank program comment system assign seat behind even though pair avail chang back',\n",
              " 'unit min delay flt sfo load pax make sens strand mani us overnight ord due miss cnxn',\n",
              " 'unit head check bag check arriv claim peopl bag http co dplq mhqgd',\n",
              " 'unit must drone unit keambleam understand frustrat bag team work hard get bag',\n",
              " 'unit chang made hour someth taken second onlin thrill love agent though',\n",
              " 'unit flight attend understand understand english mean deaf stop yell english slowli',\n",
              " 'unit appropri ask public henc dm unit employe new answer process hassl cancel flight',\n",
              " 'unit well big terribl high expect point',\n",
              " 'unit like tri make hate airlin fee check bag never mention ticket rude agent',\n",
              " 'unit nice app say us delay weather pilot say wait fuel one ur control one',\n",
              " 'unit pleas robin ewr premier desk help get earlier flight work huge thank',\n",
              " 'unit ok thank provid complimentari hotel accommod sinc stay overnight',\n",
              " 'unit origin tri share detail link jimmi samartzi vice presid custom experi sent expir',\n",
              " 'unit realli hr delay gate chang amp board us sent us back amp board us chang flight go',\n",
              " 'unit would help integr app activ surf',\n",
              " 'unit ac went minut return mojav desert pressurecook heattrap',\n",
              " 'unit nope still one help give unit badservic',\n",
              " 'unit airlin caus miss connect u would think would take whatev step remedi screw',\n",
              " 'unit thank help take hour repli get messag middl night actual help',\n",
              " 'unit flight ua descend farc left ewr yet go get wors',\n",
              " 'unit told due ua fli direct dublin go london complet shambl',\n",
              " 'unit min ewr baggag claim stillnobag ridicul',\n",
              " 'unit standbi denver delay confirm aspen whose flight cancel flight day confid',\n",
              " 'unit ye back plane delay due baggag load issu http co nfaqhhr j',\n",
              " 'unit pt u cancel flight final got stndbi pm flight day missedwork clientnothappi http co suprlfoi',\n",
              " 'unit thank kind agent went amp beyond get strand famili home',\n",
              " 'unit see justifi cost get earli flight seat airlin charg conveni get passeng earli',\n",
              " 'unit woke notif flight move hr earli bare made flight hr layov sfo want hop earlier option',\n",
              " 'unit delay baggag claim land hope bag broken damag lost w c result complaint',\n",
              " 'unit done want send screen shot second call minut',\n",
              " 'unit look beauti dc unit airlin http co mvyoizrpd',\n",
              " 'unit thank fill form soon land like dupe hope appreci feedback amp better',\n",
              " 'unit line denver rebook due weather issu better http co tmccexyaaq',\n",
              " 'unit one suffer understand delay understand tri speed process delay extent',\n",
              " 'unit cancel flight flight late flightr agent claim put new flight cancel flight cowork got flight delay',\n",
              " 'unit urgenc ridicul ceo claim custom focus yet delay happen plane sit custom',\n",
              " 'unit ask full refund delay hour give reason enough give partial credit',\n",
              " 'unit flight schedul move never flight everyon move without sens',\n",
              " 'unit ok thx',\n",
              " 'unit go hell',\n",
              " 'unit sinc bulkhead seat cannot bag floor u reserv head space seat b ua impress',\n",
              " 'unit would help could refresh board time info board pass delay flight',\n",
              " 'unit flight far year delay includ cancel flightat late flightst reason crew need mandatori sleep mexico',\n",
              " 'unit great hear thankyou much greatli appreci repli feel much settl',\n",
              " 'unit counter agent rdu deserv medal thankyou',\n",
              " 'saga melissaafr bag delay w unit reunion forc go shop stay tune',\n",
              " 'unit flight ord gate agent tri prevent take onboard bag use year flight crew reason',\n",
              " 'unit thank liter call preboard ran',\n",
              " 'unit guy split charg credit card make unnecessarili expens peopl fli guy pt',\n",
              " 'unit ua feb point oversel flight bad make peopl wait hr kick board wors',\n",
              " 'unit brilliant thankyou much class part carryon',\n",
              " 'unit thank listen compliant right thing appreci work',\n",
              " 'unit sinc cancel flightl flight twice',\n",
              " 'unit chanc wait ord afternoon anoth flight screw hold',\n",
              " 'unit ua wait ground tri get gate move b crap',\n",
              " 'unit mex nrt date tbd get usd differ quotat septemb compar mex bkk',\n",
              " 'unit better keep connect ord fwa board ten minut open get plane land hour late flight',\n",
              " 'unit unit gold number hold minut think may lost nowhereland gold reserv help',\n",
              " 'unit great readi go home',\n",
              " 'unit wow even answer back awesom americanair usairway custom servic usairwaysfail',\n",
              " 'unit noooooooooooooooooooooop',\n",
              " 'unit oh sure plan occur absolut consist usual yyj flight cancel flightl daili',\n",
              " 'unit jm outsourc unit airlin custom love outsourc outsourc outsourc',\n",
              " 'unit thank need follow back tho otherwis dm x',\n",
              " 'unit get better suggest get senior manag gate retrain gate peopl',\n",
              " 'unit jm noth like support mechan mainten worker instead unit put video timco wifi',\n",
              " 'unit sent thank',\n",
              " 'unit alreadi miss connect ugh',\n",
              " 'unit jm sure show video outsourc favorit timco knack substandard mainten work aircraft',\n",
              " 'unit formal complain custom servic handler misconnect deni board amp lost bag help',\n",
              " 'unit lot unhappi cold peopl bridg freez temp hour given info',\n",
              " 'unit flight iad sat outdoor track hour',\n",
              " 'unit serious wifi hr flight cle sfo airlin w wifi pl unwind bs',\n",
              " 'unit u would abl rebook get home sooner hr delay flight linesforev customerservic fail',\n",
              " 'unit reason whole travel experi nightmar',\n",
              " 'unit pointless tweet least americanair ask follow tri resolv',\n",
              " 'unit even apolog',\n",
              " 'unit cool',\n",
              " 'unit serious wifi hr flight cle sfo airlin without wifi',\n",
              " 'unit b board attend took shoe amp sock desk show agent foot gross http co vpym mv',\n",
              " 'unit unitedairlin pm ord abq even take walk without miss chang',\n",
              " 'unit hope baggag fee waiv tomorrow actual get flight well compens hotel room',\n",
              " 'unit either fine howev plunder hard earn dollar fine',\n",
              " 'unit sfo yyj fight cancel flightl sever time week even bother',\n",
              " 'unit wait new pilot door plane broke global servic statu airlin unsaf stun',\n",
              " 'unit get reimburs hotel taxi cancel flightat',\n",
              " 'unit awesom flight crew ua plane jurass period call want dinosaur plane back',\n",
              " 'unit unit unabl look flight reserv passeng name yyz check counter wow smh customerservic',\n",
              " 'unit e ticket refund request case id',\n",
              " 'unit phone hour custom servic figur awesom servic',\n",
              " 'unit realli know piss peopl farelock option fake',\n",
              " 'unit last week shanghai sfo delay hr bc engin today sfo sea delay sick pilot compens care',\n",
              " 'unit thing confus lost prioriti board mileag plu card member',\n",
              " 'unit hope hear actual',\n",
              " 'unit she reschedul today frigid cold possibl reason mainten could issu day',\n",
              " 'unit fact intern bag sens go mainten',\n",
              " 'unit b contact directli phone servic laissez fair best problem cancel flightl flight',\n",
              " 'unit intern phone fritz get chicago nearli hr away figur everyth',\n",
              " 'unit sorri delay respons ua chicago san fran held almost hour tarmac also lost bag',\n",
              " 'unit okay thank could pleas updat told airport someon would call today',\n",
              " 'unit thank much help pick bag aspen airport amp come today flight',\n",
              " 'unit gate c iad u releas passeng board w other deplan peopleon bridg next flight board http co hfof iyhi',\n",
              " 'unit say public extend vacat week point advertis multipl flight honor',\n",
              " 'unit cancel flight flt ewr crew tell wife amp yr old get ny catch aircanada yyz good customerservic dead',\n",
              " 'unit arriv day half late flightr suppos lesson day believ verbal written confirm unit',\n",
              " 'unit arriv airport hour departur time still miss flight bc actual electron ticket',\n",
              " 'unit hour delay noth say sorri like voucher miss time famili famili precioustim',\n",
              " 'unit two whole peopl tri schedul flight worth miss connect shame http co kqlhvap g',\n",
              " 'unit unfriendli screw famili hate kid mom wait ua pray better fyvrfn due agent error tickt',\n",
              " 'unit gate agent ewr disabl wheel chair time board pleas step step lol',\n",
              " 'unit help done',\n",
              " 'unit forc us check babi bag overbook flight complain wife need much babi unit babi meal',\n",
              " 'unit would love help get today ewr take airlin connect thx',\n",
              " 'unit today take flight san francisco refus let us board babi earli time board wont let us take babi carryon bag',\n",
              " 'unit four schedul flight reserv liter take one unreal',\n",
              " 'unit ord hotel issu yr old ticket need fix anoth hour agent l r nightmar still',\n",
              " 'unit hour rebook hour l r problem arriv gate stop caus infant sit yr old lap',\n",
              " 'unit arriv yyz take flight taiwan reserv miss ticket number slow agent sukhdeep caus us miss flt',\n",
              " 'unit thank',\n",
              " 'unit thank updat',\n",
              " 'unit three peopl awesom work long hour easi say sorri twitter help ppl ewr',\n",
              " 'unit guess excus understaf costum servic peopl deal lot angri passeng weather',\n",
              " 'unit cancel flightl wife daughter flt go follow dm detail',\n",
              " 'unit depart await inbound plane yesterday three hour never arriv stay overnight',\n",
              " 'unit confirm seat crisi avert beer miss',\n",
              " 'unit english dm though think make plane appear',\n",
              " 'unit look like today th consecut delay flight win prize southwest air fli sba',\n",
              " 'unit sit plane pilot thank waitingonapilot denver siouxfal whyairtravelsuck',\n",
              " 'unit understood thank tri reach sooner',\n",
              " 'unit alreadi done answer got oop give mile sorri pay discomfort h',\n",
              " 'unit receiv hotel food also email mile last trip hr delay mile less cancel flightlat',\n",
              " 'unit know ua delay x get crazi alreadi overnight delay unitedairlin',\n",
              " 'unit frustratingli delay happen either gate even onboard aircraft head advanc',\n",
              " 'unit den b agent amaz mpagent check suck seanmfmadden peterstraubmma jmercadomma tonysimsmma',\n",
              " 'unit ua also delay hour stretch trip way past midnight extrem exhaust',\n",
              " 'unit ha rebook hr layov amp rob night famili late flight fli time',\n",
              " 'unit switch fli unit delta past two trip disappoint ua delay hour',\n",
              " 'unit travel megzezzo injur gate agent chicago awesom help ty roadwarrior',\n",
              " 'unit unitedairlin long delay',\n",
              " 'unit flight statu updat delay ua board',\n",
              " 'unit paid economi plu put last board group gate check bag virginamerica know better',\n",
              " 'unit travel scl iha feb ac sit l night complaint fa never gave real answer help',\n",
              " 'unit suck hour delay',\n",
              " 'unit worst airlin world crap websit worthless app late flight flight suck shut',\n",
              " 'unit jh thank much reach abl get assist wait minut',\n",
              " 'unit stand still pilot paperwork fix min problem fix min ago flight delay',\n",
              " 'unit reason wait min bag made check flight staff polic overhead bin',\n",
              " 'unit pleas msg custom servic invoic dri clean abl take wet cloth airport',\n",
              " 'unit hour delay print piec paper',\n",
              " 'unit still respons',\n",
              " 'unit abl get seat assign without pay cust sec done',\n",
              " 'unit refer number agent told drive airport reach anyon deliv',\n",
              " 'unit slightli better crew spent long time search better altitud would help let pax sharp drop',\n",
              " 'unit credit card charg transact told would charg goe contact',\n",
              " 'unit pqm pqd longer show correctli mileageplu acct get fix',\n",
              " 'unit thank',\n",
              " 'unit sfo bo internet give',\n",
              " 'unit worst worst reserv polici worst costum servic worst worst worst congrat delta bad',\n",
              " 'unit tri make chang reserv get extrem frustrat give tri anoth airlin',\n",
              " 'unit got email updat still eta commun detail apolog info compens right would go long way',\n",
              " 'unit late flight crew btv last nite delay today flt miss connect cun play hotel tonight ewr',\n",
              " 'unit call check worstcustomerservic',\n",
              " 'unit passeng rerout match intend arriv time even incur cost put us airlin',\n",
              " 'unit solv final pick second time call thank respons jh dull work',\n",
              " 'unit need work unit flierfriendli program least clue flight attend',\n",
              " 'unit space doctor note everyth first trip lost first suitcas among issu pleas unit',\n",
              " 'unit new flierfriendli garbag cri get attend find place medic suppli limit overhead',\n",
              " 'unit epic fail reagan jetway min tarmac',\n",
              " 'unit thank link final arriv brussel h schedul',\n",
              " 'unit nd flight two week lost bag take k statu americanair neveragain worstcustomerservic',\n",
              " 'unit ua flight nightmar poor custom servic confirm seat given away issu',\n",
              " 'unit best custom experi via twitter huge fan',\n",
              " 'unit flight last night bad busi long time recommend unit anyon',\n",
              " 'unit beyond frustrat sked chang seat earlier departur doubl layov cours seat cust svc help',\n",
              " 'unit work lisa j ord work hard us still disappoint ewr',\n",
              " 'unit love new st class breakfast',\n",
              " 'unit email custom care via websit form long wait rachel resolv issu still irrit w unit',\n",
              " 'unit flight cancel flightl updat one get bwi late flight fine dca iad arriv earlier help',\n",
              " 'unit jj stand joke find humor',\n",
              " 'unit point made home',\n",
              " 'unit thank look get back via dm glad hear bag final deliv thank',\n",
              " 'unit would like talk custom servic agent servic non servic receiv last flight week go j',\n",
              " 'unit cancel flight flight wait line get rebook front make go anoth gate lose place',\n",
              " 'unit comment question thank copi past respons',\n",
              " 'unit fail last week iah next intl trip delta small ual flight lax book',\n",
              " 'unit suppos board brought plane hanger wtf know flight lax ewr',\n",
              " 'unit flew sdf atl tampa delta left earli arriv earli crew help wifi work',\n",
              " 'unit start without robot respons',\n",
              " 'unit control turbul control custom experi lot scare peopl',\n",
              " 'unit current ua minut worst turbul ever experienc zero commun flight deck',\n",
              " 'unit ye look ticket agent termin dismiss us miss chanc miami flight dr',\n",
              " 'unit told twice issu resolv twice write email bounc worstservic',\n",
              " 'unit flight let go look like clown one give st class',\n",
              " 'unit hold th time wait resolv issu flight year old son terribleservic noservic',\n",
              " 'unit cool thank',\n",
              " 'unit like thank recogn terri p dull go way get back raleigh flight',\n",
              " 'unit freq flyer make sad see cust need assist treat poorli servicefail',\n",
              " 'unit day saga mayb final make home intent gonna get back vacat day badservic',\n",
              " 'unit thank sick compani lousi excus custom servic never fli unit',\n",
              " 'unit current hold time speak rep tix reissu min long amp make option avail onlin',\n",
              " 'unit understand ppl make mistak code someth way get reimburs fault blatant lie',\n",
              " 'unit also forgot add bag probabl go sit new jersey miss connect',\n",
              " 'unit jx today would great honeymoon delay put damper iy',\n",
              " 'unit share pilot passeng',\n",
              " 'unit receipt upgrad return leg month late flightr still receipt http co dajwzhlvyu',\n",
              " 'unit book flight reserv seat go check find seat wtf',\n",
              " 'unit actual gate agent rude stand line wait reflight book problem miss flight sti aw',\n",
              " 'unit sure anyth build time promis ceo servic gotten wors',\n",
              " 'unit wi fi aircraft work entir ord dca flight morn',\n",
              " 'unit cancel flightl direct flight newark brussel last night hour behind schedul eu compens would given us',\n",
              " 'unit may dislik delay paid agreement paid got destin certain time',\n",
              " 'unit epicfail cx flight frankfurt san francisco go chicago flight crew hour due de ice delay',\n",
              " 'unit awar flight detail thank three hour late flight crew could give less shit',\n",
              " 'unit make sure flight delay due poor mainten would start',\n",
              " 'unit hilari',\n",
              " 'unit hahahahaha ya tri alreadi',\n",
              " 'unit bag may may airport unfortun one airport pick phone respond messag',\n",
              " 'unit funni paid check bag flight beg folk check bag free hour flight notcool',\n",
              " 'unit nope need littl red stamp counter check wreck son http co prgysvurm',\n",
              " 'unit tri cancel flight tri chang award ticket date place thank send link know fee',\n",
              " 'unit unhappi new mileag rule main reason keep fli unit take busi elsewher',\n",
              " 'unit need assist due incompet need reschedul connect never fli unit',\n",
              " 'unit offici displac deltaassist better flight experi pleasant cabin crew timeli ua switch',\n",
              " 'unit need bag bouncer get togeth',\n",
              " 'unit showexpert go unit mileag program pay ticket get fraction pqd credit',\n",
              " 'unit need retrain flight attend say room carri on actual cool',\n",
              " 'ua unit cancel flightl delay flight book problem still mile home least acknowledg cancel flightlat',\n",
              " 'unit never ever flight book problem flight unit affili chanc get unit flight',\n",
              " 'unit abl send dm good',\n",
              " 'unit three delay flight miss connect first class flight get compens lose seat',\n",
              " 'unit hold hour day sort told fine fine arriv fli',\n",
              " 'unit almost week still word dot updat london fare us citi updat end',\n",
              " 'unit well start would nice ticket actual system chang flight',\n",
              " 'unit anoth aw experi victoria check desk stl could rude condescend',\n",
              " 'unit want deliv hous go sombron els hous',\n",
              " 'unit michel ord train staff treat custom refresh pleasur deal',\n",
              " 'unit guess follow order send dm tri send',\n",
              " 'unit stop fli unit yr ago bc aggress polici carryon bdl listen pssngr forc chk preboard notcomingback',\n",
              " 'unit sent messag bag tag look',\n",
              " ...]"
            ]
          },
          "metadata": {},
          "execution_count": 17
        }
      ]
    },
    {
      "cell_type": "markdown",
      "metadata": {
        "id": "TKWURF6nhG16"
      },
      "source": [
        "### Create bag of words model"
      ]
    },
    {
      "cell_type": "code",
      "metadata": {
        "id": "rWaxH_-ehIIT"
      },
      "source": [
        "# Create the bag of words model\n",
        "from sklearn.feature_extraction.text import CountVectorizer\n",
        "cv = CountVectorizer(max_features= 1500)"
      ],
      "execution_count": null,
      "outputs": []
    },
    {
      "cell_type": "code",
      "metadata": {
        "colab": {
          "base_uri": "https://localhost:8080/"
        },
        "id": "v9KpdgVlhQLb",
        "outputId": "5ba243c5-9197-4c4f-cd5c-47b4ca7fe86a"
      },
      "source": [
        "X = cv.fit_transform(corpus).toarray()# independent variables\n",
        "X"
      ],
      "execution_count": null,
      "outputs": [
        {
          "output_type": "execute_result",
          "data": {
            "text/plain": [
              "array([[0, 0, 0, ..., 0, 0, 0],\n",
              "       [0, 0, 0, ..., 0, 0, 0],\n",
              "       [0, 0, 0, ..., 0, 0, 0],\n",
              "       ...,\n",
              "       [0, 0, 0, ..., 0, 0, 0],\n",
              "       [0, 0, 0, ..., 0, 0, 0],\n",
              "       [0, 0, 0, ..., 0, 0, 0]])"
            ]
          },
          "metadata": {},
          "execution_count": 19
        }
      ]
    },
    {
      "cell_type": "code",
      "metadata": {
        "colab": {
          "base_uri": "https://localhost:8080/"
        },
        "id": "jLXkYHPdhUQ6",
        "outputId": "771b0206-0362-44f1-97f9-d20a730b6aaf"
      },
      "source": [
        "print(cv.get_feature_names())"
      ],
      "execution_count": null,
      "outputs": [
        {
          "output_type": "stream",
          "name": "stdout",
          "text": [
            "['aa', 'abc', 'abl', 'absolut', 'absurd', 'accept', 'access', 'accommod', 'accord', 'account', 'acct', 'accur', 'acknowledg', 'across', 'act', 'action', 'activ', 'actual', 'ad', 'add', 'addit', 'address', 'admir', 'advanc', 'advantag', 'advertis', 'advis', 'advisori', 'affect', 'afford', 'afternoon', 'age', 'agent', 'ago', 'ah', 'ahead', 'air', 'airbu', 'aircraft', 'airlin', 'airplan', 'airport', 'airway', 'alert', 'allianc', 'allow', 'almost', 'alon', 'along', 'alreadi', 'also', 'altern', 'although', 'alway', 'amaz', 'america', 'american', 'americanair', 'americanairlin', 'amount', 'amp', 'angri', 'announc', 'annoy', 'anoth', 'answer', 'anymor', 'anyon', 'anyth', 'anyway', 'anywher', 'apart', 'apolog', 'app', 'appar', 'appear', 'appli', 'appreci', 'approv', 'area', 'argu', 'around', 'arriv', 'asap', 'asham', 'ask', 'ass', 'assign', 'assist', 'assum', 'assur', 'atl', 'atlanta', 'attempt', 'attend', 'attent', 'attitud', 'au', 'austin', 'auto', 'autom', 'automat', 'avail', 'avoid', 'aw', 'awar', 'award', 'away', 'awesom', 'babi', 'back', 'bad', 'badcustomerservic', 'badservic', 'bag', 'baggag', 'ball', 'bank', 'bare', 'base', 'basic', 'bathroom', 'bc', 'bday', 'bdl', 'beat', 'beauti', 'becom', 'beer', 'begin', 'behind', 'believ', 'belong', 'best', 'bet', 'better', 'beyond', 'big', 'biggest', 'bill', 'bin', 'bird', 'birthday', 'bit', 'biz', 'black', 'blame', 'blue', 'bna', 'bo', 'board', 'book', 'boston', 'bother', 'bought', 'brand', 'break', 'bring', 'broke', 'broken', 'brother', 'brought', 'bs', 'btw', 'bu', 'buf', 'buffalo', 'bullshit', 'bump', 'busi', 'buy', 'bwi', 'cab', 'cabin', 'california', 'call', 'callback', 'came', 'can', 'cancel', 'cancun', 'cannot', 'cant', 'captain', 'car', 'card', 'care', 'carousel', 'carri', 'carrier', 'carryon', 'cart', 'case', 'catch', 'cater', 'caus', 'cc', 'cell', 'center', 'central', 'ceo', 'certain', 'certainli', 'certif', 'chair', 'chairman', 'chanc', 'chang', 'charact', 'charg', 'charlott', 'chat', 'cheap', 'check', 'checkin', 'cheer', 'chi', 'chicago', 'child', 'children', 'choic', 'choos', 'citi', 'claim', 'class', 'cle', 'clean', 'clear', 'clearli', 'click', 'client', 'close', 'cloth', 'clt', 'club', 'clue', 'cmh', 'cnn', 'co', 'coach', 'coat', 'code', 'coffe', 'cold', 'columbu', 'com', 'come', 'comfort', 'comment', 'commerci', 'commit', 'common', 'commun', 'comp', 'compani', 'companion', 'compass', 'compens', 'complain', 'complaint', 'complet', 'comput', 'concern', 'condit', 'conf', 'confer', 'confirm', 'confus', 'congrat', 'connect', 'consid', 'consider', 'consist', 'cont', 'contact', 'continu', 'control', 'convers', 'cool', 'corpor', 'correct', 'correctli', 'cost', 'costum', 'could', 'couldnt', 'count', 'counter', 'countri', 'coupl', 'coupon', 'cours', 'courtesi', 'cover', 'crap', 'crappi', 'crash', 'crazi', 'creat', 'credit', 'crew', 'cri', 'cross', 'cs', 'csr', 'curiou', 'current', 'cust', 'custom', 'customerservic', 'cut', 'cuz', 'cx', 'dad', 'dal', 'dalla', 'damag', 'damn', 'danc', 'date', 'daughter', 'day', 'dc', 'dca', 'de', 'dead', 'deal', 'decid', 'decis', 'definit', 'degre', 'delay', 'deliv', 'deliveri', 'delta', 'den', 'deni', 'denver', 'depart', 'departur', 'deplan', 'dept', 'deserv', 'design', 'desk', 'despit', 'destin', 'destinationdragon', 'detail', 'devic', 'dfw', 'dfwairport', 'dia', 'didnt', 'die', 'diego', 'diff', 'differ', 'difficult', 'dinner', 'direct', 'directli', 'dirti', 'disappear', 'disappoint', 'disast', 'disconnect', 'discuss', 'disgrac', 'disgust', 'disrespect', 'divert', 'dividend', 'dm', 'doesnt', 'dog', 'dollar', 'domest', 'done', 'dont', 'door', 'doubl', 'doubt', 'dozen', 'dream', 'drink', 'drive', 'drop', 'drove', 'drunk', 'due', 'dull', 'dumb', 'earli', 'earlier', 'earn', 'easi', 'easier', 'easili', 'east', 'eat', 'economi', 'effici', 'effort', 'either', 'elev', 'elit', 'els', 'elsewher', 'email', 'embarrass', 'emerg', 'employe', 'empti', 'end', 'engin', 'english', 'enjoy', 'enough', 'ensur', 'enter', 'entertain', 'entir', 'epic', 'epicfail', 'equal', 'equip', 'error', 'especi', 'est', 'estim', 'etc', 'even', 'event', 'eventu', 'ever', 'everi', 'everyon', 'everyth', 'ewr', 'exact', 'exactli', 'exampl', 'excel', 'except', 'excit', 'excus', 'exec', 'exist', 'exit', 'exp', 'expect', 'expens', 'experi', 'experienc', 'expir', 'explain', 'explan', 'express', 'extend', 'extra', 'extrem', 'eye', 'fa', 'faa', 'fabul', 'face', 'fact', 'fail', 'failur', 'fair', 'fall', 'fals', 'famili', 'fan', 'fantast', 'far', 'fare', 'fast', 'faster', 'father', 'fault', 'favorit', 'featur', 'feb', 'fee', 'feedback', 'feel', 'feet', 'felt', 'fi', 'fight', 'figur', 'file', 'fill', 'final', 'find', 'fine', 'finger', 'finish', 'fire', 'first', 'fit', 'five', 'fix', 'fl', 'fleek', 'fleet', 'flew', 'fli', 'flier', 'flight', 'flightat', 'flightd', 'flightl', 'flightlat', 'flightli', 'flightr', 'fll', 'floor', 'florida', 'flown', 'flt', 'flyer', 'flyfi', 'folk', 'follow', 'food', 'forc', 'forev', 'forget', 'forgot', 'form', 'fortunemagazin', 'forward', 'found', 'four', 'francisco', 'fraud', 'freak', 'free', 'freez', 'frequent', 'friday', 'friend', 'friendli', 'frm', 'front', 'frozen', 'frustrat', 'ft', 'fuck', 'fuel', 'full', 'fun', 'function', 'fund', 'funer', 'funni', 'futur', 'fyi', 'game', 'garbag', 'gate', 'gave', 'gear', 'gener', 'get', 'gift', 'girl', 'give', 'given', 'glad', 'global', 'go', 'god', 'goe', 'gold', 'gone', 'gonna', 'good', 'got', 'gotta', 'gotten', 'great', 'gross', 'ground', 'group', 'gt', 'guarante', 'guess', 'guitar', 'guy', 'ha', 'haha', 'half', 'hand', 'handl', 'handler', 'hang', 'happen', 'happi', 'hard', 'hare', 'hassl', 'hate', 'head', 'hear', 'heard', 'heart', 'held', 'hell', 'hello', 'help', 'hey', 'hi', 'high', 'higher', 'hire', 'histori', 'hit', 'hold', 'holder', 'home', 'honest', 'honestli', 'honeymoon', 'honor', 'hook', 'hope', 'horrend', 'horribl', 'hostag', 'hot', 'hotel', 'hour', 'hous', 'houston', 'howev', 'hr', 'http', 'huge', 'human', 'hundr', 'hung', 'husband', 'iad', 'iah', 'ice', 'id', 'idea', 'idiot', 'ignor', 'ill', 'im', 'imagin', 'imaginedragon', 'immedi', 'import', 'imposs', 'impress', 'improv', 'inbound', 'incid', 'includ', 'incompet', 'inconveni', 'incred', 'ind', 'indic', 'industri', 'infant', 'inflight', 'info', 'inform', 'insan', 'insid', 'instead', 'insult', 'int', 'integr', 'intent', 'interest', 'intern', 'internet', 'interview', 'intl', 'involv', 'iphon', 'irrit', 'issu', 'item', 'itinerari', 'ive', 'jack', 'jan', 'jax', 'jb', 'jet', 'jetblu', 'jetway', 'jfk', 'jh', 'job', 'joke', 'jp', 'juan', 'jump', 'karen', 'keep', 'kept', 'kick', 'kid', 'kill', 'kind', 'kiosk', 'knew', 'know', 'known', 'kp', 'kudo', 'la', 'lack', 'ladi', 'laguardia', 'lame', 'land', 'laptop', 'larg', 'last', 'late', 'lauderdal', 'lax', 'layov', 'lb', 'lead', 'learn', 'least', 'leav', 'left', 'leg', 'legroom', 'less', 'lesson', 'let', 'letter', 'level', 'lga', 'lhr', 'lie', 'life', 'light', 'like', 'limit', 'line', 'link', 'list', 'listen', 'liter', 'littl', 'live', 'load', 'local', 'locat', 'log', 'logan', 'lol', 'london', 'long', 'longer', 'look', 'loos', 'lose', 'lost', 'lot', 'loung', 'lousi', 'love', 'lower', 'loyal', 'loyalti', 'lt', 'luck', 'lucki', 'luckili', 'luggag', 'luv', 'mad', 'made', 'magic', 'mail', 'main', 'mainten', 'major', 'make', 'malfunct', 'man', 'manag', 'mani', 'manner', 'march', 'mark', 'match', 'matter', 'may', 'mayb', 'mco', 'mdw', 'meal', 'mean', 'mech', 'mechan', 'media', 'medic', 'meet', 'member', 'memori', 'memphi', 'mention', 'merg', 'merger', 'mess', 'messag', 'met', 'method', 'mexico', 'mia', 'miami', 'middl', 'midnight', 'might', 'mile', 'mileag', 'mileageplu', 'militari', 'million', 'min', 'mind', 'mine', 'minor', 'mint', 'minut', 'miser', 'misplac', 'miss', 'mistak', 'mke', 'mobil', 'mom', 'moment', 'mon', 'monday', 'money', 'month', 'morn', 'mother', 'move', 'movi', 'mr', 'msg', 'msi', 'msp', 'much', 'multipl', 'music', 'must', 'nah', 'name', 'nashvil', 'nasti', 'nc', 'nd', 'near', 'nearli', 'need', 'never', 'neveragain', 'new', 'newark', 'news', 'next', 'nexu', 'nice', 'night', 'nightmar', 'nobodi', 'non', 'none', 'nonstop', 'nope', 'normal', 'notcool', 'note', 'noth', 'nothappi', 'notic', 'notif', 'notifi', 'number', 'nut', 'ny', 'nyc', 'obvious', 'occur', 'odd', 'offer', 'offic', 'offici', 'often', 'oh', 'ok', 'okay', 'okc', 'old', 'omg', 'onboard', 'one', 'onlin', 'onto', 'open', 'oper', 'opportun', 'option', 'ord', 'order', 'origin', 'orlando', 'oscar', 'other', 'otherwis', 'outbound', 'outlet', 'outsid', 'outsourc', 'outstand', 'overbook', 'overhead', 'overnight', 'owe', 'pa', 'pack', 'page', 'paid', 'pain', 'pair', 'palm', 'paper', 'paperwork', 'parent', 'park', 'part', 'parti', 'partner', 'pass', 'passbook', 'passeng', 'past', 'pathet', 'patienc', 'patient', 'pax', 'pay', 'pbi', 'pdx', 'peanut', 'pend', 'peopl', 'per', 'perfect', 'perform', 'perhap', 'perk', 'person', 'personnel', 'ph', 'philadelphia', 'philli', 'phl', 'phlairport', 'phoenix', 'phone', 'photo', 'phx', 'pick', 'pictur', 'piec', 'pilot', 'piss', 'pit', 'pittsburgh', 'pl', 'place', 'plan', 'plane', 'platinum', 'play', 'pleas', 'pleasant', 'plenti', 'plu', 'plz', 'pm', 'point', 'polic', 'polici', 'poor', 'poorli', 'poorservic', 'posit', 'possibl', 'post', 'power', 'ppl', 'pr', 'practic', 'pre', 'prefer', 'premier', 'premium', 'prepar', 'pretti', 'prevent', 'previou', 'price', 'print', 'prior', 'prioriti', 'privat', 'prob', 'probabl', 'problem', 'procedur', 'process', 'profession', 'profit', 'program', 'promis', 'prompt', 'properli', 'prove', 'provid', 'pt', 'public', 'puerto', 'pull', 'purchas', 'push', 'put', 'pvd', 'qualiti', 'question', 'queue', 'quick', 'quickli', 'quit', 'rais', 'raleigh', 'ran', 'rate', 'rather', 'rd', 'rdu', 're', 'reach', 'read', 'readi', 'real', 'realiz', 'realli', 'reason', 'rebook', 'receipt', 'receiv', 'recent', 'recommend', 'record', 'red', 'redeem', 'refer', 'reflight', 'refresh', 'refund', 'refus', 'regard', 'regist', 'reimburs', 'relat', 'releas', 'rememb', 'remind', 'remov', 'rent', 'rental', 'rep', 'repair', 'repeat', 'replac', 'repli', 'report', 'repres', 'request', 'requir', 'rerout', 'reschedul', 'reserv', 'resolut', 'resolv', 'respect', 'respond', 'respons', 'rest', 'result', 'return', 'review', 'reward', 'ride', 'ridicul', 'right', 'rip', 'ripoff', 'road', 'rock', 'room', 'round', 'rout', 'row', 'rr', 'rsw', 'rt', 'rude', 'ruin', 'rule', 'run', 'runway', 'sad', 'sadli', 'safe', 'safeti', 'said', 'sale', 'san', 'sat', 'saturday', 'save', 'saw', 'say', 'scan', 'schedul', 'school', 'screen', 'screw', 'sea', 'search', 'seat', 'seattl', 'second', 'secur', 'see', 'seem', 'seen', 'select', 'self', 'sell', 'send', 'sens', 'sent', 'separ', 'seriou', 'serious', 'serv', 'servic', 'set', 'sever', 'sf', 'sfo', 'shame', 'share', 'ship', 'shit', 'shitti', 'shock', 'short', 'shot', 'shout', 'show', 'shuttl', 'sick', 'side', 'sight', 'sign', 'silver', 'simpl', 'simpli', 'sinc', 'sincer', 'singl', 'sister', 'sit', 'site', 'situat', 'six', 'size', 'sju', 'ski', 'sky', 'slc', 'sleep', 'slept', 'slow', 'small', 'smh', 'smile', 'smooth', 'sna', 'snack', 'snow', 'social', 'sold', 'solut', 'solv', 'somebodi', 'somehow', 'someon', 'someth', 'somewher', 'son', 'soon', 'sooner', 'sorri', 'sort', 'sound', 'south', 'southwest', 'southwestair', 'space', 'speak', 'special', 'specif', 'speed', 'spend', 'spent', 'spiritairlin', 'spoke', 'spoken', 'spot', 'spring', 'st', 'staf', 'staff', 'stand', 'standard', 'standbi', 'star', 'start', 'state', 'statu', 'stay', 'step', 'stewardess', 'stick', 'still', 'stop', 'stori', 'storm', 'straight', 'strand', 'stress', 'stuck', 'stuff', 'submit', 'suck', 'suggest', 'suit', 'suitcas', 'sun', 'sunday', 'super', 'supervisor', 'support', 'suppos', 'sure', 'surpris', 'svc', 'sw', 'swa', 'sweet', 'switch', 'system', 'tag', 'take', 'taken', 'takeoff', 'talk', 'tampa', 'tarmac', 'taxi', 'tea', 'team', 'tech', 'technic', 'tell', 'term', 'termin', 'terribl', 'texa', 'text', 'th', 'thank', 'thankyou', 'that', 'thing', 'think', 'third', 'thnx', 'tho', 'though', 'thought', 'three', 'throw', 'thru', 'thursday', 'thx', 'ticket', 'til', 'till', 'time', 'tire', 'tix', 'tkt', 'tmrw', 'today', 'toddler', 'togeth', 'toilet', 'told', 'tomorrow', 'ton', 'tonight', 'took', 'top', 'total', 'touch', 'tough', 'toward', 'tpa', 'track', 'traffic', 'train', 'transact', 'transfer', 'transport', 'trap', 'travel', 'treat', 'treatment', 'tri', 'trip', 'troubl', 'true', 'trueblu', 'truli', 'trust', 'tsa', 'tue', 'tuesday', 'turn', 'tv', 'tweet', 'twice', 'twitter', 'two', 'ty', 'type', 'typic', 'ua', 'ual', 'ugh', 'uk', 'unabl', 'unaccept', 'unavail', 'unbeliev', 'uncomfort', 'understaf', 'understand', 'understood', 'unfortun', 'unfriendlyski', 'unhappi', 'unhelp', 'unit', 'unitedairlin', 'unitedfail', 'unitedsuck', 'unless', 'unprofession', 'unreal', 'unus', 'updat', 'upgrad', 'upset', 'ur', 'us', 'usa', 'usair', 'usairway', 'usairwaysfail', 'usairwayssuck', 'use', 'useless', 'usual', 'va', 'vacat', 'valid', 'valu', 'vega', 'via', 'video', 'view', 'virgin', 'virginamerica', 'visit', 'voic', 'volum', 'voucher', 'vx', 'wait', 'waiv', 'walk', 'wanna', 'want', 'warm', 'warn', 'wast', 'watch', 'water', 'way', 'weather', 'web', 'websit', 'wed', 'wednesday', 'week', 'weekend', 'weight', 'welcom', 'well', 'went', 'wet', 'what', 'whatev', 'wheel', 'wheelchair', 'whenev', 'whole', 'whose', 'wife', 'wifi', 'will', 'win', 'window', 'winter', 'wish', 'within', 'without', 'woman', 'wonder', 'wont', 'word', 'work', 'worker', 'world', 'worri', 'wors', 'worst', 'worstairlineev', 'worth', 'would', 'wow', 'write', 'wrong', 'wtf', 'wth', 'ya', 'yall', 'yay', 'ye', 'yea', 'yeah', 'year', 'yell', 'yep', 'yesterday', 'yet', 'yo', 'york', 'young', 'yr', 'yyz', 'zero']\n"
          ]
        },
        {
          "output_type": "stream",
          "name": "stderr",
          "text": [
            "/usr/local/lib/python3.7/dist-packages/sklearn/utils/deprecation.py:87: FutureWarning: Function get_feature_names is deprecated; get_feature_names is deprecated in 1.0 and will be removed in 1.2. Please use get_feature_names_out instead.\n",
            "  warnings.warn(msg, category=FutureWarning)\n"
          ]
        }
      ]
    },
    {
      "cell_type": "code",
      "metadata": {
        "colab": {
          "base_uri": "https://localhost:8080/"
        },
        "id": "mOxmXznihXU6",
        "outputId": "959b9c42-fed5-46c3-8aed-cc0fe19fbbeb"
      },
      "source": [
        "X.shape"
      ],
      "execution_count": null,
      "outputs": [
        {
          "output_type": "execute_result",
          "data": {
            "text/plain": [
              "(11541, 1500)"
            ]
          },
          "metadata": {},
          "execution_count": 21
        }
      ]
    },
    {
      "cell_type": "code",
      "metadata": {
        "colab": {
          "base_uri": "https://localhost:8080/"
        },
        "id": "zzUODIKnhaa7",
        "outputId": "132f2b57-61b1-49c0-b1f1-a3059ff6d3fb"
      },
      "source": [
        "y = data_clean.iloc[:, 1].values # dependent variable (These are your Liked values from the dataset)\n",
        "y"
      ],
      "execution_count": null,
      "outputs": [
        {
          "output_type": "execute_result",
          "data": {
            "text/plain": [
              "array(['positive', 'negative', 'negative', ..., 'positive', 'negative',\n",
              "       'negative'], dtype=object)"
            ]
          },
          "metadata": {},
          "execution_count": 22
        }
      ]
    },
    {
      "cell_type": "markdown",
      "metadata": {
        "id": "sBfO9lEThxQX"
      },
      "source": [
        "### Apply Various Machine Learning Classification Models (all 5)\n",
        "### Create Confusion matrix and all the four performance metrics"
      ]
    },
    {
      "cell_type": "code",
      "metadata": {
        "colab": {
          "base_uri": "https://localhost:8080/"
        },
        "id": "_z5iqXAHhw3s",
        "outputId": "7beb1baf-0220-4c6c-b3fb-8114d755617d"
      },
      "source": [
        "# Naive Bayes Model\n",
        "# Splitting the dataset into the Training set and Test set\n",
        "x_train_NB,x_test_NB,y_train_NB,y_test_NB = train_test_split(X,y,test_size = 0.2,random_state = 411)\n",
        "\n",
        "# Fitting classifier to the Training set\n",
        "naive_bayes = GaussianNB()\n",
        "naive_bayes.fit(x_train_NB,y_train_NB)\n",
        "\n",
        "# Predicting the Test set results\n",
        "naive_bayes_predict = naive_bayes.predict(x_test_NB)\n",
        "\n",
        "# Make the Confusion Matrix\n",
        "confusion_matrix_NB = confusion_matrix(y_test_NB,naive_bayes_predict)\n",
        "print(confusion_matrix_NB)\n",
        "\n",
        "# Evaluate the results\n",
        "print('Accuracy Score of Naive Bayes Model is:',accuracy_score(y_test_NB,naive_bayes_predict))\n",
        "print('Precision Score of Naive Bayes Model is:',precision_score(y_test_NB,naive_bayes_predict, average='micro'))\n",
        "print('Recall Score of Naive Bayes Model is:',recall_score(y_test_NB,naive_bayes_predict,average='micro'))\n",
        "print('F1 Score of Naive Bayes Model is:',f1_score(y_test_NB,naive_bayes_predict,average='micro'))"
      ],
      "execution_count": null,
      "outputs": [
        {
          "output_type": "stream",
          "name": "stdout",
          "text": [
            "[[ 806 1037]\n",
            " [  52  414]]\n",
            "Accuracy Score of Naive Bayes Model is: 0.5283672585534863\n",
            "Precision Score of Naive Bayes Model is: 0.5283672585534863\n",
            "Recall Score of Naive Bayes Model is: 0.5283672585534863\n",
            "F1 Score of Naive Bayes Model is: 0.5283672585534863\n"
          ]
        }
      ]
    },
    {
      "cell_type": "code",
      "metadata": {
        "colab": {
          "base_uri": "https://localhost:8080/"
        },
        "id": "HrzlSC2SU7Af",
        "outputId": "06fa2c8b-da67-42d8-a128-b5604e50a3a1"
      },
      "source": [
        "# KNN Model\n",
        "# Splitting the dataset into the Training set and Test set\n",
        "x_train_KNN,x_test_KNN,y_train_KNN,y_test_KNN = train_test_split(X,y,test_size = 0.2,random_state = 411)\n",
        "\n",
        "# Fitting classifier to the Training set\n",
        "KNN_Model = KNeighborsClassifier(n_neighbors=3)\n",
        "KNN_Model.fit(x_train_KNN, y_train_KNN)\n",
        "\n",
        "# Predicting the Test set results\n",
        "KNN_predict = KNN_Model.predict(x_test_KNN)\n",
        "\n",
        "# Make the Confusion Matrix\n",
        "confusion_matrix_KNN = confusion_matrix(y_test_KNN,KNN_predict)\n",
        "print(confusion_matrix_KNN)\n",
        "\n",
        "# Evaluate the results\n",
        "print('Accuracy Score of KNN Model is:',accuracy_score(y_test_KNN,KNN_predict))\n",
        "print('Precision Score of KNN Model is:',precision_score(y_test_KNN,KNN_predict,average='micro'))\n",
        "print('Recall Score of KNN Model is:',recall_score(y_test_KNN,KNN_predict,average='micro'))\n",
        "print('F1 Score of KNN Model is:',f1_score(y_test_KNN,KNN_predict,average='micro'))"
      ],
      "execution_count": null,
      "outputs": [
        {
          "output_type": "stream",
          "name": "stdout",
          "text": [
            "[[1537  306]\n",
            " [ 139  327]]\n",
            "Accuracy Score of KNN Model is: 0.8072758770030316\n",
            "Precision Score of KNN Model is: 0.8072758770030316\n",
            "Recall Score of KNN Model is: 0.8072758770030316\n",
            "F1 Score of KNN Model is: 0.8072758770030316\n"
          ]
        }
      ]
    },
    {
      "cell_type": "code",
      "metadata": {
        "colab": {
          "base_uri": "https://localhost:8080/"
        },
        "id": "GEkpnrmJU7ey",
        "outputId": "4de73a64-b1b6-4107-f67f-8c5bebd0bf01"
      },
      "source": [
        "# Support Vector Machine SVM Model\n",
        "# Splitting the dataset into the Training set and Test set\n",
        "x_train_SVM,x_test_SVM,y_train_SVM,y_test_SVM = train_test_split(X,y,test_size = 0.2,random_state = 411)\n",
        "\n",
        "# Fitting classifier to the Training set\n",
        "Support_Vector_Machine = SVC(kernel='linear', random_state=411)\n",
        "Support_Vector_Machine.fit(x_train_SVM, y_train_SVM)\n",
        "\n",
        "# Predicting the Test set results\n",
        "Support_Vector_Machine_predict = Support_Vector_Machine.predict(x_test_SVM)\n",
        "\n",
        "# Make the Confusion Matrix\n",
        "confusion_matrix_SVM = confusion_matrix(y_test_SVM,Support_Vector_Machine_predict)\n",
        "print(confusion_matrix_SVM)\n",
        "\n",
        "# Evaluate the results\n",
        "print('Accuracy Score of Support Vector Machine Model is:',accuracy_score(y_test_SVM,Support_Vector_Machine_predict))\n",
        "print('Precision Score of Support Vector Machine Model is:',precision_score(y_test_SVM,Support_Vector_Machine_predict,average='micro'))\n",
        "print('Recall Score of Support Vector Machine Model is:',recall_score(y_test_SVM,Support_Vector_Machine_predict,average='micro'))\n",
        "print('F1 Score of Support Vector Machine Model is:',f1_score(y_test_SVM,Support_Vector_Machine_predict,average='micro'))"
      ],
      "execution_count": null,
      "outputs": [
        {
          "output_type": "stream",
          "name": "stdout",
          "text": [
            "[[1756   87]\n",
            " [ 124  342]]\n",
            "Accuracy Score of Support Vector Machine Model is: 0.9086184495452577\n",
            "Precision Score of Support Vector Machine Model is: 0.9086184495452577\n",
            "Recall Score of Support Vector Machine Model is: 0.9086184495452577\n",
            "F1 Score of Support Vector Machine Model is: 0.9086184495452577\n"
          ]
        }
      ]
    },
    {
      "cell_type": "code",
      "metadata": {
        "colab": {
          "base_uri": "https://localhost:8080/"
        },
        "id": "RYw6PG0nWWT_",
        "outputId": "a9d16d52-60f9-40bb-9d32-98cbda62d8f0"
      },
      "source": [
        "#Decision Tree Classification Model\n",
        "# Splitting the dataset into the Training set and Test set\n",
        "x_train_DTC,x_test_DTC,y_train_DTC,y_test_DTC = train_test_split(X,y,test_size = 0.2,random_state = 411)\n",
        "\n",
        "# Fitting classifier to the Training set\n",
        "Decision_Tree_Classification = DecisionTreeClassifier()\n",
        "Decision_Tree_Classification.fit(x_train_DTC, y_train_DTC)\n",
        "\n",
        "# Predicting the Test set results\n",
        "Decision_Tree_Classification_Predict = Decision_Tree_Classification.predict(x_test_DTC)\n",
        "\n",
        "# Make the Confusion Matrix\n",
        "confusion_matrix_DTC = confusion_matrix(y_test_DTC,Decision_Tree_Classification_Predict)\n",
        "print(confusion_matrix_DTC)\n",
        "\n",
        "# Evaluate the results\n",
        "print('Accuracy Score of Decision Tree Classification Model is:',accuracy_score(y_test_DTC,Decision_Tree_Classification_Predict))\n",
        "print('Precision Score of Decision Tree Classification Model is:',precision_score(y_test_DTC,Decision_Tree_Classification_Predict,average='micro'))\n",
        "print('Recall Score of Decision Tree Classification Model is:',recall_score(y_test_DTC,Decision_Tree_Classification_Predict,average='micro'))\n",
        "print('F1 Score of Decision Tree Classification Model is:',f1_score(y_test_DTC,Decision_Tree_Classification_Predict,average='micro'))"
      ],
      "execution_count": null,
      "outputs": [
        {
          "output_type": "stream",
          "name": "stdout",
          "text": [
            "[[1651  192]\n",
            " [ 145  321]]\n",
            "Accuracy Score of Decision Tree Classification Model is: 0.8540493720225206\n",
            "Precision Score of Decision Tree Classification Model is: 0.8540493720225206\n",
            "Recall Score of Decision Tree Classification Model is: 0.8540493720225206\n",
            "F1 Score of Decision Tree Classification Model is: 0.8540493720225206\n"
          ]
        }
      ]
    },
    {
      "cell_type": "code",
      "metadata": {
        "colab": {
          "base_uri": "https://localhost:8080/"
        },
        "id": "eSvNFmkXU70E",
        "outputId": "ccef1022-26b2-495e-eb00-7eae8fedeb00"
      },
      "source": [
        "#Random Forest Regression\n",
        "# Splitting the dataset into the Training set and Test set\n",
        "x_train_RF,x_test_RF,y_train_RF,y_test_RF = train_test_split(X,y,test_size = 0.2,random_state = 411)\n",
        "\n",
        "# Fitting classifier to the Training set\n",
        "Random_Forest = RandomForestClassifier(n_estimators=100)\n",
        "Random_Forest.fit(x_train_RF, y_train_RF)\n",
        "\n",
        "# Predicting the Test set results\n",
        "Rndom_Forest_predict = Random_Forest.predict(x_test_RF)\n",
        "\n",
        "# Make the Confusion Matrix\n",
        "confusion_matrix_RF = confusion_matrix(y_test_RF,Rndom_Forest_predict)\n",
        "print(confusion_matrix_RF)\n",
        "\n",
        "# Evaluate the results\n",
        "print('Accuracy Score of Ranadom Forest Model is:',accuracy_score(y_test_RF,Rndom_Forest_predict))\n",
        "print('Precision Score of Ranadom Forest Model is:',precision_score(y_test_RF,Rndom_Forest_predict,average='micro'))\n",
        "print('Recall Score of Ranadom Forest Model is:',recall_score(y_test_RF,Rndom_Forest_predict,average='micro'))\n",
        "print('F1 Score of Ranadom Forest Model is:',f1_score(y_test_RF,Rndom_Forest_predict,average='micro'))"
      ],
      "execution_count": null,
      "outputs": [
        {
          "output_type": "stream",
          "name": "stdout",
          "text": [
            "[[1741  102]\n",
            " [ 144  322]]\n",
            "Accuracy Score of Ranadom Forest Model is: 0.8934603724556085\n",
            "Precision Score of Ranadom Forest Model is: 0.8934603724556085\n",
            "Recall Score of Ranadom Forest Model is: 0.8934603724556085\n",
            "F1 Score of Ranadom Forest Model is: 0.8934603724556085\n"
          ]
        }
      ]
    },
    {
      "cell_type": "markdown",
      "metadata": {
        "id": "MsO4zAwUWwPL"
      },
      "source": [
        "### Create a TF-IDF model"
      ]
    },
    {
      "cell_type": "code",
      "metadata": {
        "id": "WT5DYJ0GWxt7"
      },
      "source": [
        "from sklearn.feature_extraction.text import TfidfVectorizer\n",
        "\n",
        "vectorizer = TfidfVectorizer (max_features=2500, min_df=7, max_df=0.8, stop_words=stopwords.words('english'))"
      ],
      "execution_count": null,
      "outputs": []
    },
    {
      "cell_type": "code",
      "metadata": {
        "id": "rsok4gtIW1MC"
      },
      "source": [
        "corpus = vectorizer.fit_transform(corpus).toarray()"
      ],
      "execution_count": null,
      "outputs": []
    },
    {
      "cell_type": "code",
      "metadata": {
        "id": "4uQPNV_6W3P6"
      },
      "source": [
        "X =corpus"
      ],
      "execution_count": null,
      "outputs": []
    },
    {
      "cell_type": "code",
      "metadata": {
        "colab": {
          "base_uri": "https://localhost:8080/"
        },
        "id": "1Bli6XbAW7p0",
        "outputId": "908f5d09-d1bd-445d-8256-abaf40678db2"
      },
      "source": [
        "X.shape"
      ],
      "execution_count": null,
      "outputs": [
        {
          "output_type": "execute_result",
          "data": {
            "text/plain": [
              "(11541, 1589)"
            ]
          },
          "metadata": {},
          "execution_count": 31
        }
      ]
    },
    {
      "cell_type": "markdown",
      "metadata": {
        "id": "P93mCs4PXEe4"
      },
      "source": [
        "### Apply the Machine learning models onto this TF-IDF model (all 5)\n",
        "### Create Confusion matrix and all the four performance metrics"
      ]
    },
    {
      "cell_type": "code",
      "metadata": {
        "colab": {
          "base_uri": "https://localhost:8080/"
        },
        "id": "sYdVsFF3XHMF",
        "outputId": "6e863458-aacc-41ad-c21b-5d11705fe818"
      },
      "source": [
        "# Naive Bayes Model\n",
        "# Splitting the dataset into the Training set and Test set\n",
        "x_train_NB,x_test_NB,y_train_NB,y_test_NB = train_test_split(X,y,test_size = 0.2,random_state = 411)\n",
        "\n",
        "# Fitting classifier to the Training set\n",
        "naive_bayes = GaussianNB()\n",
        "naive_bayes.fit(x_train_NB,y_train_NB)\n",
        "\n",
        "# Predicting the Test set results\n",
        "naive_bayes_predict = naive_bayes.predict(x_test_NB)\n",
        "\n",
        "# Make the Confusion Matrix\n",
        "confusion_matrix_NB = confusion_matrix(y_test_NB,naive_bayes_predict)\n",
        "print(confusion_matrix_NB)\n",
        "\n",
        "# Evaluate the results\n",
        "print('Accuracy Score of Naive Bayes Model is:',accuracy_score(y_test_NB,naive_bayes_predict))\n",
        "print('Precision Score of Naive Bayes Model is:',precision_score(y_test_NB,naive_bayes_predict,average='micro'))\n",
        "print('Recall Score of Naive Bayes Model is:',recall_score(y_test_NB,naive_bayes_predict,average='micro'))\n",
        "print('F1 Score of Naive Bayes Model is:',f1_score(y_test_NB,naive_bayes_predict,average='micro'))"
      ],
      "execution_count": null,
      "outputs": [
        {
          "output_type": "stream",
          "name": "stdout",
          "text": [
            "[[ 843 1000]\n",
            " [  60  406]]\n",
            "Accuracy Score of Naive Bayes Model is: 0.5409268081420529\n",
            "Precision Score of Naive Bayes Model is: 0.5409268081420529\n",
            "Recall Score of Naive Bayes Model is: 0.5409268081420529\n",
            "F1 Score of Naive Bayes Model is: 0.5409268081420529\n"
          ]
        }
      ]
    },
    {
      "cell_type": "code",
      "metadata": {
        "colab": {
          "base_uri": "https://localhost:8080/"
        },
        "id": "obIpi3kBXeDv",
        "outputId": "968b4cd5-3548-416b-d114-6e9c753539ef"
      },
      "source": [
        "# KNN Model\n",
        "# Splitting the dataset into the Training set and Test set\n",
        "x_train_KNN,x_test_KNN,y_train_KNN,y_test_KNN = train_test_split(X,y,test_size = 0.2,random_state = 411)\n",
        "\n",
        "# Fitting classifier to the Training set\n",
        "KNN_Model = KNeighborsClassifier(n_neighbors=3)\n",
        "KNN_Model.fit(x_train_KNN, y_train_KNN)\n",
        "\n",
        "# Predicting the Test set results\n",
        "KNN_predict = KNN_Model.predict(x_test_KNN)\n",
        "\n",
        "# Make the Confusion Matrix\n",
        "confusion_matrix_KNN = confusion_matrix(y_test_KNN,KNN_predict)\n",
        "print(confusion_matrix_KNN)\n",
        "\n",
        "# Evaluate the results\n",
        "print('Accuracy Score of KNN Model is:',accuracy_score(y_test_KNN,KNN_predict))\n",
        "print('Precision Score of KNN Model is:',precision_score(y_test_KNN,KNN_predict,average='micro'))\n",
        "print('Recall Score of KNN Model is:',recall_score(y_test_KNN,KNN_predict,average='micro'))\n",
        "print('F1 Score of KNN Model is:',f1_score(y_test_KNN,KNN_predict,average='micro'))"
      ],
      "execution_count": null,
      "outputs": [
        {
          "output_type": "stream",
          "name": "stdout",
          "text": [
            "[[1677  166]\n",
            " [ 132  334]]\n",
            "Accuracy Score of KNN Model is: 0.8709398007795582\n",
            "Precision Score of KNN Model is: 0.8709398007795582\n",
            "Recall Score of KNN Model is: 0.8709398007795582\n",
            "F1 Score of KNN Model is: 0.8709398007795582\n"
          ]
        }
      ]
    },
    {
      "cell_type": "code",
      "metadata": {
        "colab": {
          "base_uri": "https://localhost:8080/"
        },
        "id": "FzfGAfBDXeVl",
        "outputId": "30758aa1-62ad-4d8b-d76b-bb3d11dd7415"
      },
      "source": [
        "# Support Vector Machine SVM Model\n",
        "# Splitting the dataset into the Training set and Test set\n",
        "x_train_SVM,x_test_SVM,y_train_SVM,y_test_SVM = train_test_split(X,y,test_size = 0.2,random_state = 411)\n",
        "\n",
        "# Fitting classifier to the Training set\n",
        "Support_Vector_Machine = SVC(kernel='linear', random_state=411)\n",
        "Support_Vector_Machine.fit(x_train_SVM, y_train_SVM)\n",
        "\n",
        "# Predicting the Test set results\n",
        "Support_Vector_Machine_predict = Support_Vector_Machine.predict(x_test_SVM)\n",
        "\n",
        "# Make the Confusion Matrix\n",
        "confusion_matrix_SVM = confusion_matrix(y_test_SVM,Support_Vector_Machine_predict)\n",
        "print(confusion_matrix_SVM)\n",
        "\n",
        "# Evaluate the results\n",
        "print('Accuracy Score of Support Vector Machine Model is:',accuracy_score(y_test_SVM,Support_Vector_Machine_predict))\n",
        "print('Precision Score of Support Vector Machine Model is:',precision_score(y_test_SVM,Support_Vector_Machine_predict,average='micro'))\n",
        "print('Recall Score of Support Vector Machine Model is:',recall_score(y_test_SVM,Support_Vector_Machine_predict,average='micro'))\n",
        "print('F1 Score of Support Vector Machine Model is:',f1_score(y_test_SVM,Support_Vector_Machine_predict,average='micro'))"
      ],
      "execution_count": null,
      "outputs": [
        {
          "output_type": "stream",
          "name": "stdout",
          "text": [
            "[[1790   53]\n",
            " [ 142  324]]\n",
            "Accuracy Score of Support Vector Machine Model is: 0.9155478562148116\n",
            "Precision Score of Support Vector Machine Model is: 0.9155478562148116\n",
            "Recall Score of Support Vector Machine Model is: 0.9155478562148116\n",
            "F1 Score of Support Vector Machine Model is: 0.9155478562148116\n"
          ]
        }
      ]
    },
    {
      "cell_type": "code",
      "metadata": {
        "colab": {
          "base_uri": "https://localhost:8080/"
        },
        "id": "491gYBweXeqG",
        "outputId": "27e2af8f-5f4e-4ef8-b82a-84bddb112d8a"
      },
      "source": [
        "#Decision Tree Classification Model\n",
        "# Splitting the dataset into the Training set and Test set\n",
        "x_train_DTC,x_test_DTC,y_train_DTC,y_test_DTC = train_test_split(X,y,test_size = 0.2,random_state = 411)\n",
        "\n",
        "# Fitting classifier to the Training set\n",
        "Decision_Tree_Classification = DecisionTreeClassifier()\n",
        "Decision_Tree_Classification.fit(x_train_DTC, y_train_DTC)\n",
        "\n",
        "# Predicting the Test set results\n",
        "Decision_Tree_Classification_Predict = Decision_Tree_Classification.predict(x_test_DTC)\n",
        "\n",
        "# Make the Confusion Matrix\n",
        "confusion_matrix_DTC = confusion_matrix(y_test_DTC,Decision_Tree_Classification_Predict)\n",
        "print(confusion_matrix_DTC)\n",
        "\n",
        "# Evaluate the results\n",
        "print('Accuracy Score of Decision Tree Classification Model is:',accuracy_score(y_test_DTC,Decision_Tree_Classification_Predict))\n",
        "print('Precision Score of Decision Tree Classification Model is:',precision_score(y_test_DTC,Decision_Tree_Classification_Predict,average='micro'))\n",
        "print('Recall Score of Decision Tree Classification Model is:',recall_score(y_test_DTC,Decision_Tree_Classification_Predict,average='micro'))\n",
        "print('F1 Score of Decision Tree Classification Model is:',f1_score(y_test_DTC,Decision_Tree_Classification_Predict,average='micro'))"
      ],
      "execution_count": null,
      "outputs": [
        {
          "output_type": "stream",
          "name": "stdout",
          "text": [
            "[[1669  174]\n",
            " [ 179  287]]\n",
            "Accuracy Score of Decision Tree Classification Model is: 0.8471199653529666\n",
            "Precision Score of Decision Tree Classification Model is: 0.8471199653529666\n",
            "Recall Score of Decision Tree Classification Model is: 0.8471199653529666\n",
            "F1 Score of Decision Tree Classification Model is: 0.8471199653529666\n"
          ]
        }
      ]
    },
    {
      "cell_type": "code",
      "metadata": {
        "colab": {
          "base_uri": "https://localhost:8080/"
        },
        "id": "bo37IFwZXe-D",
        "outputId": "98d29734-c456-482e-a2a3-a04f32ac03f0"
      },
      "source": [
        "#Random Forest Regression\n",
        "# Splitting the dataset into the Training set and Test set\n",
        "x_train_RF,x_test_RF,y_train_RF,y_test_RF = train_test_split(X,y,test_size = 0.2,random_state = 411)\n",
        "\n",
        "# Fitting classifier to the Training set\n",
        "Random_Forest = RandomForestClassifier(n_estimators=100)\n",
        "Random_Forest.fit(x_train_RF, y_train_RF)\n",
        "\n",
        "# Predicting the Test set results\n",
        "Rndom_Forest_predict = Random_Forest.predict(x_test_RF)\n",
        "\n",
        "# Make the Confusion Matrix\n",
        "confusion_matrix_RF = confusion_matrix(y_test_RF,Rndom_Forest_predict)\n",
        "print(confusion_matrix_RF)\n",
        "\n",
        "# Evaluate the results\n",
        "print('Accuracy Score of Ranadom Forest Model is:',accuracy_score(y_test_RF,Rndom_Forest_predict))\n",
        "print('Precision Score of Ranadom Forest Model is:',precision_score(y_test_RF,Rndom_Forest_predict,average='micro'))\n",
        "print('Recall Score of Ranadom Forest Model is:',recall_score(y_test_RF,Rndom_Forest_predict,average='micro'))\n",
        "print('F1 Score of Ranadom Forest Model is:',f1_score(y_test_RF,Rndom_Forest_predict,average='micro'))"
      ],
      "execution_count": null,
      "outputs": [
        {
          "output_type": "stream",
          "name": "stdout",
          "text": [
            "[[1776   67]\n",
            " [ 171  295]]\n",
            "Accuracy Score of Ranadom Forest Model is: 0.8969250757903855\n",
            "Precision Score of Ranadom Forest Model is: 0.8969250757903855\n",
            "Recall Score of Ranadom Forest Model is: 0.8969250757903855\n",
            "F1 Score of Ranadom Forest Model is: 0.8969250757903855\n"
          ]
        }
      ]
    },
    {
      "cell_type": "markdown",
      "metadata": {
        "id": "DPAQvP5uZZlN"
      },
      "source": [
        "### Compare the various models on both the approaches."
      ]
    },
    {
      "cell_type": "markdown",
      "metadata": {
        "id": "eyjBNfhKZb2A"
      },
      "source": [
        "| Model | Accuracy_score | TF-IDF_Accuracy_score |\n",
        "| --- | --- | --- |\n",
        "| Naïve Bayes Model\t | 52.8% | 54.1% |\n",
        "| K-Nearest Neighbors (KNN)\t\t | 80.7% | 87.1% |\n",
        "| Support Vector Machine (SVM)\t\t | 90.8% | 91.6% |\n",
        "| Decision Trees\t | 85.5% | 85.2% |\n",
        "| Random Forest\t | 88.8% | 89.7%|"
      ]
    },
    {
      "cell_type": "markdown",
      "metadata": {
        "id": "Y421yIZ2NXR1"
      },
      "source": [
        "### Which model predicts the best?\n"
      ]
    },
    {
      "cell_type": "markdown",
      "metadata": {
        "id": "GwrH7jiiZgv0"
      },
      "source": [
        "The best model to predict is the Support Vector Machine(SVM) model which has a 90.8% accuracy before TF-IDF and 91.6% accuracy after TF-IDF.\n"
      ]
    }
  ]
}